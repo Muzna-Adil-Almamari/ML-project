{
 "cells": [
  {
   "cell_type": "code",
   "execution_count": 614,
   "id": "deabddbd-45b6-44a2-acb3-239e9caf9d25",
   "metadata": {},
   "outputs": [],
   "source": [
    "import requests\n",
    "import json\n",
    "import pandas as pd\n",
    "import time\n",
    "import numpy as np\n",
    "import matplotlib.pyplot as plt\n",
    "import seaborn as sns\n",
    "from sklearn.preprocessing import LabelEncoder, OneHotEncoder,StandardScaler\n",
    "from sklearn.impute import KNNImputer\n",
    "from sklearn.model_selection import train_test_split\n",
    "from sklearn.metrics import  mean_absolute_error, mean_squared_error, r2_score\n",
    "from sklearn.linear_model import LinearRegression, Lasso,Ridge\n",
    "from sklearn.preprocessing import PolynomialFeatures , StandardScaler\n",
    "from sklearn.tree import DecisionTreeRegressor\n",
    "from sklearn.ensemble import RandomForestRegressor\n",
    "from sklearn.svm import SVR\n"
   ]
  },
  {
   "cell_type": "markdown",
   "id": "7e2a67e9-d60d-46a6-bf76-a6b10a8f41c8",
   "metadata": {
    "jp-MarkdownHeadingCollapsed": true
   },
   "source": [
    "# API Key "
   ]
  },
  {
   "cell_type": "code",
   "execution_count": 77,
   "id": "db1736d9-b5e6-482f-b08b-16387a7b7fb3",
   "metadata": {},
   "outputs": [],
   "source": [
    "api_key = \"\"\n",
    "headers = {\n",
    "    \"apikey\": api_key\n",
    "}\n"
   ]
  },
  {
   "cell_type": "markdown",
   "id": "64c47069-7b44-4cfc-8b19-159aa1b126fa",
   "metadata": {
    "jp-MarkdownHeadingCollapsed": true
   },
   "source": [
    "# first API "
   ]
  },
  {
   "cell_type": "code",
   "execution_count": 82,
   "id": "d94877ab-22f1-4a68-ade3-85b7c061f597",
   "metadata": {
    "scrolled": true
   },
   "outputs": [
    {
     "name": "stdout",
     "output_type": "stream",
     "text": [
      " Retrieved page 1 for ZIP 10001\n",
      " Retrieved page 2 for ZIP 10001\n",
      " Retrieved page 3 for ZIP 10001\n",
      " Retrieved page 4 for ZIP 10001\n",
      " Retrieved page 5 for ZIP 10001\n",
      " Retrieved page 6 for ZIP 10001\n",
      " Retrieved page 7 for ZIP 10001\n",
      " Retrieved page 8 for ZIP 10001\n",
      " Retrieved page 9 for ZIP 10001\n",
      " Retrieved page 1 for ZIP 10002\n",
      " Retrieved page 2 for ZIP 10002\n",
      " Retrieved page 3 for ZIP 10002\n",
      " Retrieved page 4 for ZIP 10002\n",
      " Retrieved page 5 for ZIP 10002\n",
      " Retrieved page 6 for ZIP 10002\n",
      " Retrieved page 7 for ZIP 10002\n",
      " Retrieved page 8 for ZIP 10002\n",
      " Retrieved page 9 for ZIP 10002\n",
      " Retrieved page 1 for ZIP 10003\n",
      " Retrieved page 2 for ZIP 10003\n",
      " Retrieved page 3 for ZIP 10003\n",
      " Retrieved page 4 for ZIP 10003\n",
      " Retrieved page 5 for ZIP 10003\n",
      " Retrieved page 6 for ZIP 10003\n",
      " Retrieved page 7 for ZIP 10003\n",
      " Retrieved page 8 for ZIP 10003\n",
      " Retrieved page 9 for ZIP 10003\n",
      " Retrieved page 1 for ZIP 90001\n",
      " Retrieved page 2 for ZIP 90001\n",
      " Retrieved page 3 for ZIP 90001\n",
      " Retrieved page 4 for ZIP 90001\n",
      " Retrieved page 5 for ZIP 90001\n",
      " Retrieved page 6 for ZIP 90001\n",
      " Retrieved page 7 for ZIP 90001\n",
      " Retrieved page 8 for ZIP 90001\n",
      " Retrieved page 9 for ZIP 90001\n",
      " Retrieved page 1 for ZIP 82009\n",
      " Retrieved page 2 for ZIP 82009\n",
      " Retrieved page 3 for ZIP 82009\n",
      " Retrieved page 4 for ZIP 82009\n",
      " Retrieved page 5 for ZIP 82009\n",
      " Retrieved page 6 for ZIP 82009\n",
      " Retrieved page 7 for ZIP 82009\n",
      " Retrieved page 8 for ZIP 82009\n",
      " Retrieved page 9 for ZIP 82009\n"
     ]
    }
   ],
   "source": [
    "\n",
    "postal_codes = [\"10001\", \"10002\", \"10003\", \"90001\", \"82009\"]\n",
    "\n",
    "base_url = \"https://api.gateway.attomdata.com/propertyapi/v1.0.0/property/detail\"\n",
    "\n",
    "all_properties = []\n",
    "\n",
    "for code in postal_codes:\n",
    "    for page in range(1, 10): \n",
    "        params = {\n",
    "            \"postalcode\": code,\n",
    "            \"page\": page,\n",
    "            \"pagesize\": 100  \n",
    "        }\n",
    "\n",
    "        response = requests.get(base_url, headers=headers, params=params)\n",
    "        if response.status_code == 200:\n",
    "            data = response.json()\n",
    "            properties = data.get(\"property\", [])\n",
    "            if not properties:\n",
    "                break  # No more data\n",
    "            all_properties.extend(properties)\n",
    "            print(f\" Retrieved page {page} for ZIP {code}\")\n",
    "            time.sleep(1.2) \n",
    "        else:\n",
    "            print(f\" Failed for ZIP {code} page {page}: {response.status_code}\")\n",
    "            break\n"
   ]
  },
  {
   "cell_type": "code",
   "execution_count": 83,
   "id": "1152c402-3725-4814-9b22-7c008b4be327",
   "metadata": {},
   "outputs": [
    {
     "name": "stdout",
     "output_type": "stream",
     "text": [
      "(4500, 99)\n"
     ]
    }
   ],
   "source": [
    "# Save JSON\n",
    "with open(\"attom_raw_data.json\", \"w\") as f:\n",
    "    json.dump(all_properties, f, indent=2)\n",
    "\n",
    "# Flatten and save CSV\n",
    "df2 = pd.json_normalize(all_properties)\n",
    "df2.to_csv(\"attom_raw_data2.csv\", index=False)\n",
    "print(df2.shape)"
   ]
  },
  {
   "cell_type": "code",
   "execution_count": 84,
   "id": "b29d6051-69ea-470d-8bd3-15cf09da2195",
   "metadata": {
    "scrolled": true
   },
   "outputs": [
    {
     "data": {
      "text/html": [
       "<div>\n",
       "<style scoped>\n",
       "    .dataframe tbody tr th:only-of-type {\n",
       "        vertical-align: middle;\n",
       "    }\n",
       "\n",
       "    .dataframe tbody tr th {\n",
       "        vertical-align: top;\n",
       "    }\n",
       "\n",
       "    .dataframe thead th {\n",
       "        text-align: right;\n",
       "    }\n",
       "</style>\n",
       "<table border=\"1\" class=\"dataframe\">\n",
       "  <thead>\n",
       "    <tr style=\"text-align: right;\">\n",
       "      <th></th>\n",
       "      <th>identifier.Id</th>\n",
       "      <th>identifier.fips</th>\n",
       "      <th>identifier.apn</th>\n",
       "      <th>identifier.attomId</th>\n",
       "      <th>lot.lotnum</th>\n",
       "      <th>lot.pooltype</th>\n",
       "      <th>area.blockNum</th>\n",
       "      <th>area.loctype</th>\n",
       "      <th>area.countrysecsubd</th>\n",
       "      <th>area.countyuse1</th>\n",
       "      <th>...</th>\n",
       "      <th>building.interior.bsmttype</th>\n",
       "      <th>building.interior.fplccount</th>\n",
       "      <th>building.interior.fplcind</th>\n",
       "      <th>building.interior.fplctype</th>\n",
       "      <th>building.construction.condition</th>\n",
       "      <th>building.construction.roofcover</th>\n",
       "      <th>building.construction.roofShape</th>\n",
       "      <th>building.construction.wallType</th>\n",
       "      <th>building.summary.bldgsNum</th>\n",
       "      <th>building.rooms.bathspartial</th>\n",
       "    </tr>\n",
       "  </thead>\n",
       "  <tbody>\n",
       "    <tr>\n",
       "      <th>0</th>\n",
       "      <td>30267</td>\n",
       "      <td>36061</td>\n",
       "      <td>00754-1004</td>\n",
       "      <td>30267</td>\n",
       "      <td>1004</td>\n",
       "      <td>NO POOL</td>\n",
       "      <td>754</td>\n",
       "      <td>VIEW - NONE</td>\n",
       "      <td>New York</td>\n",
       "      <td>R1</td>\n",
       "      <td>...</td>\n",
       "      <td>NaN</td>\n",
       "      <td>NaN</td>\n",
       "      <td>NaN</td>\n",
       "      <td>NaN</td>\n",
       "      <td>NaN</td>\n",
       "      <td>NaN</td>\n",
       "      <td>NaN</td>\n",
       "      <td>NaN</td>\n",
       "      <td>NaN</td>\n",
       "      <td>NaN</td>\n",
       "    </tr>\n",
       "    <tr>\n",
       "      <th>1</th>\n",
       "      <td>398087</td>\n",
       "      <td>36061</td>\n",
       "      <td>00779-0045</td>\n",
       "      <td>398087</td>\n",
       "      <td>45</td>\n",
       "      <td>NO POOL</td>\n",
       "      <td>779</td>\n",
       "      <td>VIEW - NONE</td>\n",
       "      <td>New York</td>\n",
       "      <td>K4</td>\n",
       "      <td>...</td>\n",
       "      <td>NaN</td>\n",
       "      <td>NaN</td>\n",
       "      <td>NaN</td>\n",
       "      <td>NaN</td>\n",
       "      <td>NaN</td>\n",
       "      <td>NaN</td>\n",
       "      <td>NaN</td>\n",
       "      <td>NaN</td>\n",
       "      <td>NaN</td>\n",
       "      <td>NaN</td>\n",
       "    </tr>\n",
       "    <tr>\n",
       "      <th>2</th>\n",
       "      <td>1395391</td>\n",
       "      <td>36061</td>\n",
       "      <td>00804-0017</td>\n",
       "      <td>1395391</td>\n",
       "      <td>17</td>\n",
       "      <td>NO POOL</td>\n",
       "      <td>804</td>\n",
       "      <td>VIEW - NONE</td>\n",
       "      <td>New York</td>\n",
       "      <td>C4</td>\n",
       "      <td>...</td>\n",
       "      <td>NaN</td>\n",
       "      <td>NaN</td>\n",
       "      <td>NaN</td>\n",
       "      <td>NaN</td>\n",
       "      <td>NaN</td>\n",
       "      <td>NaN</td>\n",
       "      <td>NaN</td>\n",
       "      <td>NaN</td>\n",
       "      <td>NaN</td>\n",
       "      <td>NaN</td>\n",
       "    </tr>\n",
       "    <tr>\n",
       "      <th>3</th>\n",
       "      <td>1395418</td>\n",
       "      <td>36061</td>\n",
       "      <td>00753-0016</td>\n",
       "      <td>1395418</td>\n",
       "      <td>16</td>\n",
       "      <td>NO POOL</td>\n",
       "      <td>753</td>\n",
       "      <td>VIEW - NONE</td>\n",
       "      <td>New York</td>\n",
       "      <td>C5</td>\n",
       "      <td>...</td>\n",
       "      <td>NaN</td>\n",
       "      <td>NaN</td>\n",
       "      <td>NaN</td>\n",
       "      <td>NaN</td>\n",
       "      <td>NaN</td>\n",
       "      <td>NaN</td>\n",
       "      <td>NaN</td>\n",
       "      <td>NaN</td>\n",
       "      <td>NaN</td>\n",
       "      <td>NaN</td>\n",
       "    </tr>\n",
       "    <tr>\n",
       "      <th>4</th>\n",
       "      <td>1528817</td>\n",
       "      <td>36061</td>\n",
       "      <td>00802-0077</td>\n",
       "      <td>1528817</td>\n",
       "      <td>77</td>\n",
       "      <td>NO POOL</td>\n",
       "      <td>802</td>\n",
       "      <td>VIEW - NONE</td>\n",
       "      <td>New York</td>\n",
       "      <td>K2</td>\n",
       "      <td>...</td>\n",
       "      <td>NaN</td>\n",
       "      <td>NaN</td>\n",
       "      <td>NaN</td>\n",
       "      <td>NaN</td>\n",
       "      <td>NaN</td>\n",
       "      <td>NaN</td>\n",
       "      <td>NaN</td>\n",
       "      <td>NaN</td>\n",
       "      <td>NaN</td>\n",
       "      <td>NaN</td>\n",
       "    </tr>\n",
       "    <tr>\n",
       "      <th>...</th>\n",
       "      <td>...</td>\n",
       "      <td>...</td>\n",
       "      <td>...</td>\n",
       "      <td>...</td>\n",
       "      <td>...</td>\n",
       "      <td>...</td>\n",
       "      <td>...</td>\n",
       "      <td>...</td>\n",
       "      <td>...</td>\n",
       "      <td>...</td>\n",
       "      <td>...</td>\n",
       "      <td>...</td>\n",
       "      <td>...</td>\n",
       "      <td>...</td>\n",
       "      <td>...</td>\n",
       "      <td>...</td>\n",
       "      <td>...</td>\n",
       "      <td>...</td>\n",
       "      <td>...</td>\n",
       "      <td>...</td>\n",
       "      <td>...</td>\n",
       "    </tr>\n",
       "    <tr>\n",
       "      <th>4495</th>\n",
       "      <td>17867111</td>\n",
       "      <td>56021</td>\n",
       "      <td>14882000300192</td>\n",
       "      <td>17867111</td>\n",
       "      <td>19,20</td>\n",
       "      <td>NO POOL</td>\n",
       "      <td>3</td>\n",
       "      <td>VIEW - NONE</td>\n",
       "      <td>Laramie</td>\n",
       "      <td>100</td>\n",
       "      <td>...</td>\n",
       "      <td>FINISHED</td>\n",
       "      <td>1.0</td>\n",
       "      <td>Y</td>\n",
       "      <td>YES</td>\n",
       "      <td>AVERAGE</td>\n",
       "      <td>COMPOSITION SHINGLE</td>\n",
       "      <td>GABLE</td>\n",
       "      <td>WOOD</td>\n",
       "      <td>1.0</td>\n",
       "      <td>NaN</td>\n",
       "    </tr>\n",
       "    <tr>\n",
       "      <th>4496</th>\n",
       "      <td>17867112</td>\n",
       "      <td>56021</td>\n",
       "      <td>14886000400040</td>\n",
       "      <td>17867112</td>\n",
       "      <td>4,5</td>\n",
       "      <td>NaN</td>\n",
       "      <td>4</td>\n",
       "      <td>VIEW - NONE</td>\n",
       "      <td>Laramie</td>\n",
       "      <td>100</td>\n",
       "      <td>...</td>\n",
       "      <td>FINISHED</td>\n",
       "      <td>1.0</td>\n",
       "      <td>Y</td>\n",
       "      <td>YES</td>\n",
       "      <td>AVERAGE</td>\n",
       "      <td>COMPOSITION SHINGLE</td>\n",
       "      <td>GABLE</td>\n",
       "      <td>WOOD</td>\n",
       "      <td>1.0</td>\n",
       "      <td>NaN</td>\n",
       "    </tr>\n",
       "    <tr>\n",
       "      <th>4497</th>\n",
       "      <td>17867113</td>\n",
       "      <td>56021</td>\n",
       "      <td>14755001600000</td>\n",
       "      <td>17867113</td>\n",
       "      <td>NaN</td>\n",
       "      <td>NO POOL</td>\n",
       "      <td>NaN</td>\n",
       "      <td>VIEW - NONE</td>\n",
       "      <td>Laramie</td>\n",
       "      <td>100</td>\n",
       "      <td>...</td>\n",
       "      <td>FINISHED</td>\n",
       "      <td>NaN</td>\n",
       "      <td>NaN</td>\n",
       "      <td>NaN</td>\n",
       "      <td>AVERAGE</td>\n",
       "      <td>COMPOSITION SHINGLE</td>\n",
       "      <td>HIP</td>\n",
       "      <td>WOOD</td>\n",
       "      <td>1.0</td>\n",
       "      <td>1.0</td>\n",
       "    </tr>\n",
       "    <tr>\n",
       "      <th>4498</th>\n",
       "      <td>17867114</td>\n",
       "      <td>56021</td>\n",
       "      <td>14755001800000</td>\n",
       "      <td>17867114</td>\n",
       "      <td>NaN</td>\n",
       "      <td>NO POOL</td>\n",
       "      <td>NaN</td>\n",
       "      <td>VIEW - NONE</td>\n",
       "      <td>Laramie</td>\n",
       "      <td>100</td>\n",
       "      <td>...</td>\n",
       "      <td>FINISHED</td>\n",
       "      <td>NaN</td>\n",
       "      <td>NaN</td>\n",
       "      <td>NaN</td>\n",
       "      <td>AVERAGE</td>\n",
       "      <td>COMPOSITION SHINGLE</td>\n",
       "      <td>GABLE</td>\n",
       "      <td>WOOD</td>\n",
       "      <td>1.0</td>\n",
       "      <td>NaN</td>\n",
       "    </tr>\n",
       "    <tr>\n",
       "      <th>4499</th>\n",
       "      <td>17867115</td>\n",
       "      <td>56021</td>\n",
       "      <td>14755001500000</td>\n",
       "      <td>17867115</td>\n",
       "      <td>NaN</td>\n",
       "      <td>NO POOL</td>\n",
       "      <td>NaN</td>\n",
       "      <td>VIEW - NONE</td>\n",
       "      <td>Laramie</td>\n",
       "      <td>100</td>\n",
       "      <td>...</td>\n",
       "      <td>FINISHED</td>\n",
       "      <td>NaN</td>\n",
       "      <td>NaN</td>\n",
       "      <td>NaN</td>\n",
       "      <td>AVERAGE</td>\n",
       "      <td>COMPOSITION SHINGLE</td>\n",
       "      <td>GABLE</td>\n",
       "      <td>WOOD</td>\n",
       "      <td>1.0</td>\n",
       "      <td>1.0</td>\n",
       "    </tr>\n",
       "  </tbody>\n",
       "</table>\n",
       "<p>4500 rows × 99 columns</p>\n",
       "</div>"
      ],
      "text/plain": [
       "      identifier.Id identifier.fips  identifier.apn  identifier.attomId  \\\n",
       "0             30267           36061      00754-1004               30267   \n",
       "1            398087           36061      00779-0045              398087   \n",
       "2           1395391           36061      00804-0017             1395391   \n",
       "3           1395418           36061      00753-0016             1395418   \n",
       "4           1528817           36061      00802-0077             1528817   \n",
       "...             ...             ...             ...                 ...   \n",
       "4495       17867111           56021  14882000300192            17867111   \n",
       "4496       17867112           56021  14886000400040            17867112   \n",
       "4497       17867113           56021  14755001600000            17867113   \n",
       "4498       17867114           56021  14755001800000            17867114   \n",
       "4499       17867115           56021  14755001500000            17867115   \n",
       "\n",
       "     lot.lotnum lot.pooltype area.blockNum area.loctype area.countrysecsubd  \\\n",
       "0          1004      NO POOL           754  VIEW - NONE            New York   \n",
       "1            45      NO POOL           779  VIEW - NONE            New York   \n",
       "2            17      NO POOL           804  VIEW - NONE            New York   \n",
       "3            16      NO POOL           753  VIEW - NONE            New York   \n",
       "4            77      NO POOL           802  VIEW - NONE            New York   \n",
       "...         ...          ...           ...          ...                 ...   \n",
       "4495      19,20      NO POOL             3  VIEW - NONE             Laramie   \n",
       "4496        4,5          NaN             4  VIEW - NONE             Laramie   \n",
       "4497        NaN      NO POOL           NaN  VIEW - NONE             Laramie   \n",
       "4498        NaN      NO POOL           NaN  VIEW - NONE             Laramie   \n",
       "4499        NaN      NO POOL           NaN  VIEW - NONE             Laramie   \n",
       "\n",
       "     area.countyuse1  ... building.interior.bsmttype  \\\n",
       "0              R1     ...                        NaN   \n",
       "1              K4     ...                        NaN   \n",
       "2              C4     ...                        NaN   \n",
       "3              C5     ...                        NaN   \n",
       "4              K2     ...                        NaN   \n",
       "...              ...  ...                        ...   \n",
       "4495           100    ...                   FINISHED   \n",
       "4496           100    ...                   FINISHED   \n",
       "4497           100    ...                   FINISHED   \n",
       "4498           100    ...                   FINISHED   \n",
       "4499           100    ...                   FINISHED   \n",
       "\n",
       "     building.interior.fplccount building.interior.fplcind  \\\n",
       "0                            NaN                       NaN   \n",
       "1                            NaN                       NaN   \n",
       "2                            NaN                       NaN   \n",
       "3                            NaN                       NaN   \n",
       "4                            NaN                       NaN   \n",
       "...                          ...                       ...   \n",
       "4495                         1.0                         Y   \n",
       "4496                         1.0                         Y   \n",
       "4497                         NaN                       NaN   \n",
       "4498                         NaN                       NaN   \n",
       "4499                         NaN                       NaN   \n",
       "\n",
       "     building.interior.fplctype building.construction.condition  \\\n",
       "0                           NaN                             NaN   \n",
       "1                           NaN                             NaN   \n",
       "2                           NaN                             NaN   \n",
       "3                           NaN                             NaN   \n",
       "4                           NaN                             NaN   \n",
       "...                         ...                             ...   \n",
       "4495                        YES                         AVERAGE   \n",
       "4496                        YES                         AVERAGE   \n",
       "4497                        NaN                         AVERAGE   \n",
       "4498                        NaN                         AVERAGE   \n",
       "4499                        NaN                         AVERAGE   \n",
       "\n",
       "     building.construction.roofcover building.construction.roofShape  \\\n",
       "0                                NaN                             NaN   \n",
       "1                                NaN                             NaN   \n",
       "2                                NaN                             NaN   \n",
       "3                                NaN                             NaN   \n",
       "4                                NaN                             NaN   \n",
       "...                              ...                             ...   \n",
       "4495             COMPOSITION SHINGLE                           GABLE   \n",
       "4496             COMPOSITION SHINGLE                           GABLE   \n",
       "4497             COMPOSITION SHINGLE                             HIP   \n",
       "4498             COMPOSITION SHINGLE                           GABLE   \n",
       "4499             COMPOSITION SHINGLE                           GABLE   \n",
       "\n",
       "     building.construction.wallType building.summary.bldgsNum  \\\n",
       "0                               NaN                       NaN   \n",
       "1                               NaN                       NaN   \n",
       "2                               NaN                       NaN   \n",
       "3                               NaN                       NaN   \n",
       "4                               NaN                       NaN   \n",
       "...                             ...                       ...   \n",
       "4495                           WOOD                       1.0   \n",
       "4496                           WOOD                       1.0   \n",
       "4497                           WOOD                       1.0   \n",
       "4498                           WOOD                       1.0   \n",
       "4499                           WOOD                       1.0   \n",
       "\n",
       "     building.rooms.bathspartial  \n",
       "0                            NaN  \n",
       "1                            NaN  \n",
       "2                            NaN  \n",
       "3                            NaN  \n",
       "4                            NaN  \n",
       "...                          ...  \n",
       "4495                         NaN  \n",
       "4496                         NaN  \n",
       "4497                         1.0  \n",
       "4498                         NaN  \n",
       "4499                         1.0  \n",
       "\n",
       "[4500 rows x 99 columns]"
      ]
     },
     "execution_count": 84,
     "metadata": {},
     "output_type": "execute_result"
    }
   ],
   "source": [
    "df2"
   ]
  },
  {
   "cell_type": "code",
   "execution_count": 85,
   "id": "3e478e88-9bf7-40eb-a4d8-4178423296ef",
   "metadata": {
    "scrolled": true
   },
   "outputs": [
    {
     "data": {
      "text/plain": [
       "Index(['identifier.Id', 'identifier.fips', 'identifier.apn',\n",
       "       'identifier.attomId', 'lot.lotnum', 'lot.pooltype', 'area.blockNum',\n",
       "       'area.loctype', 'area.countrysecsubd', 'area.countyuse1',\n",
       "       'area.muncode', 'area.munname', 'area.srvySection', 'area.srvyTownship',\n",
       "       'area.subdname', 'area.taxcodearea', 'address.country',\n",
       "       'address.countrySubd', 'address.line1', 'address.line2',\n",
       "       'address.locality', 'address.matchCode', 'address.oneLine',\n",
       "       'address.postal1', 'address.postal2', 'address.postal3',\n",
       "       'location.accuracy', 'location.latitude', 'location.longitude',\n",
       "       'location.distance', 'location.geoid', 'location.geoIdV4.CO',\n",
       "       'location.geoIdV4.CS', 'location.geoIdV4.DB', 'location.geoIdV4.N1',\n",
       "       'location.geoIdV4.N2', 'location.geoIdV4.PL', 'location.geoIdV4.SB',\n",
       "       'location.geoIdV4.ZI', 'summary.absenteeInd', 'summary.propclass',\n",
       "       'summary.propsubtype', 'summary.proptype', 'summary.propertyType',\n",
       "       'summary.yearbuilt', 'summary.propLandUse', 'summary.propIndicator',\n",
       "       'summary.legal1', 'building.size.bldgsize', 'building.size.grosssize',\n",
       "       'building.size.grosssizeadjusted', 'building.size.livingsize',\n",
       "       'building.size.sizeInd', 'building.size.universalsize',\n",
       "       'building.summary.bldgType', 'building.summary.imprType',\n",
       "       'building.summary.levels', 'building.summary.storyDesc',\n",
       "       'building.summary.unitsCount', 'building.summary.view',\n",
       "       'building.summary.yearbuilteffective', 'vintage.lastModified',\n",
       "       'vintage.pubDate', 'lot.depth', 'lot.frontage', 'lot.lotsize1',\n",
       "       'lot.lotsize2', 'location.geoIdV4.N4',\n",
       "       'building.construction.constructiontype', 'location.geoIdV4.N3',\n",
       "       'building.parking.prkgSize', 'building.parking.prkgSpaces',\n",
       "       'building.summary.archStyle', 'area.subdtractnum',\n",
       "       'utilities.coolingtype', 'building.rooms.bathsfull',\n",
       "       'building.rooms.bathstotal', 'building.rooms.beds',\n",
       "       'building.construction.frameType', 'building.summary.quality',\n",
       "       'utilities.heatingtype', 'building.rooms.roomsTotal',\n",
       "       'building.interior.floors', 'lot.poolind',\n",
       "       'building.parking.garagetype', 'building.parking.prkgType',\n",
       "       'area.srvyRange', 'utilities.heatingfuel', 'building.interior.bsmtsize',\n",
       "       'building.interior.bsmttype', 'building.interior.fplccount',\n",
       "       'building.interior.fplcind', 'building.interior.fplctype',\n",
       "       'building.construction.condition', 'building.construction.roofcover',\n",
       "       'building.construction.roofShape', 'building.construction.wallType',\n",
       "       'building.summary.bldgsNum', 'building.rooms.bathspartial'],\n",
       "      dtype='object')"
      ]
     },
     "execution_count": 85,
     "metadata": {},
     "output_type": "execute_result"
    }
   ],
   "source": [
    "df2.columns"
   ]
  },
  {
   "cell_type": "markdown",
   "id": "0d8edb1f-752b-4bff-a2dc-361ac875c77a",
   "metadata": {},
   "source": [
    "## view the columes to understand data more and take only wat we need "
   ]
  },
  {
   "cell_type": "code",
   "execution_count": 149,
   "id": "12ae65ee-5c4e-487b-9c6c-9ef306d9bab6",
   "metadata": {},
   "outputs": [
    {
     "data": {
      "text/plain": [
       "array(['NEW YORK', 'LOS ANGELES', 'CHEYENNE'], dtype=object)"
      ]
     },
     "execution_count": 149,
     "metadata": {},
     "output_type": "execute_result"
    }
   ],
   "source": [
    "df2[\"address.locality\"].unique() "
   ]
  },
  {
   "cell_type": "code",
   "execution_count": 150,
   "id": "822824d1-76d7-4d1c-a2d9-8786bffd87fe",
   "metadata": {},
   "outputs": [
    {
     "data": {
      "text/plain": [
       "array(['NY', 'CA', 'WY'], dtype=object)"
      ]
     },
     "execution_count": 150,
     "metadata": {},
     "output_type": "execute_result"
    }
   ],
   "source": [
    "df2[\"address.countrySubd\"].unique() # i think this will be good "
   ]
  },
  {
   "cell_type": "code",
   "execution_count": 151,
   "id": "9ebe581d-0703-4043-a800-f6e1dd872f29",
   "metadata": {
    "scrolled": true
   },
   "outputs": [
    {
     "data": {
      "text/plain": [
       "array(['CONDOMINIUM', 'STORES & APARTMENTS',\n",
       "       'RESIDENTIAL INCOME (GENERAL/MULTI-FAMILY)',\n",
       "       'BOARDING/ROOMING HOUSE, APT HOTEL', 'STORE/OFFICE (MIXED USE)',\n",
       "       'SINGLE FAMILY RESIDENCE', 'OFFICE BUILDING (MULTI-STORY)',\n",
       "       'HOTEL', 'TRIPLEX (3 UNITS, ANY COMBINATION)', 'COOPERATIVE',\n",
       "       'COMMERCIAL OFFICE/RESIDENTIAL (MIXED USE)',\n",
       "       'Cooperative Building (Residential)',\n",
       "       'DUPLEX (2 UNITS, ANY COMBINATION)', 'COMMERCIAL OFFICE (GENERAL)',\n",
       "       'PARKING LOT', 'VACANT LAND', 'APARTMENT HOUSE (5+ UNITS)',\n",
       "       'THEATER (MOVIE)',\n",
       "       'LIGHT INDUSTRIAL (10% IMPROVED OFFICE SPACE; MACHINE SHOP)',\n",
       "       'FINANCIAL BUILDING', 'Condominium Building (Residential)',\n",
       "       'MISCELLANEOUS (GENERAL)',\n",
       "       'RETAIL STORES (PERSONAL SERVICES, PHOTOGRAPHY, TRAVEL)',\n",
       "       'GOVERNMENTAL / PUBLIC USE (GENERAL)', 'FREEWAYS, STATE HWYS',\n",
       "       'PARKING GARAGE, PARKING STRUCTURE', 'COMMERCIAL (GENERAL)',\n",
       "       'QUADPLEX (4 UNITS, ANY COMBINATION)', 'WAREHOUSE, STORAGE',\n",
       "       'INDUSTRIAL LOFT BUILDING, LOFT BUILDING', 'AUTO REPAIR, GARAGE',\n",
       "       'PARK, PLAYGROUND, PICNIC AREA',\n",
       "       'RELIGIOUS, CHURCH, WORSHIP (SYNAGOGUE, TEMPLE, PARSONAGE)',\n",
       "       'MUSEUM, LIBRARY, ART GALLERY (RECREATIONAL)',\n",
       "       'PROFESSIONAL BUILDING (LEGAL, INSURANCE, REAL ESTATE, BUSINESS)',\n",
       "       \"CHILDREN'S HOME, ORPHANAGE\", 'TRANSPORTATION (GENERAL)',\n",
       "       'RESIDENTIAL (GENERAL/SINGLE)',\n",
       "       'RECREATIONAL/ENTERTAINMENT (GENERAL)',\n",
       "       'PAROCHIAL SCHOOL, PRIVATE SCHOOL', 'TOWNHOUSE',\n",
       "       'EXEMPT (FULL OR PARTIAL)', 'MEDICAL CLINIC',\n",
       "       'EMERGENCY (POLICE, FIRE, RESCUE, SHELTERS, ANIMAL SHELTER)',\n",
       "       'COLLEGES, UNIVERSITY - PUBLIC',\n",
       "       'COLLEGE, UNIVERSITY, VOCATIONAL SCHOOL - PRIVATE',\n",
       "       'DORMITORY, GROUP QUARTERS (RESIDENTIAL)', 'MANUFACTURING (LIGHT)',\n",
       "       'RESTAURANT', 'Single Family Residence w/ ADU',\n",
       "       'RESIDENTIAL - VACANT LAND', 'VACANT COMMERCIAL',\n",
       "       'SERVICE SHOP (TV, RADIO, ELECTRIC, PLUMBING)', 'OFFICE BUILDING',\n",
       "       'MEDICAL BUILDING', 'MULTI-FAMILY - VACANT LAND',\n",
       "       'STORAGE YARD, OPEN STORAGE (LIGHT EQUIPMENT, MATERIAL)',\n",
       "       'INDUSTRIAL - VACANT LAND', 'MISCELLANEOUS (RESIDENTIAL)',\n",
       "       'NEIGHBORHOOD: SHOPPING CENTER, STRIP CENTER, ENTERPRISE ZONE'],\n",
       "      dtype=object)"
      ]
     },
     "execution_count": 151,
     "metadata": {},
     "output_type": "execute_result"
    }
   ],
   "source": [
    "df2[\"summary.propertyType\"].unique() # so many values "
   ]
  },
  {
   "cell_type": "code",
   "execution_count": 112,
   "id": "4886bfd4-8734-4235-997c-811b52cda9fa",
   "metadata": {
    "scrolled": true
   },
   "outputs": [
    {
     "data": {
      "text/plain": [
       "array(['CONDOMINIUM', 'STORES & RESIDENTIAL', 'MULTI FAMILY DWELLING',\n",
       "       'APARTMENT/HOTEL', 'STORES & OFFICES', 'SFR', 'OFFICE BUILDING',\n",
       "       'HOTEL', 'TRIPLEX', 'COOPERATIVE', 'OFFICE & RESIDENTIAL',\n",
       "       'Cooperative Building', 'DUPLEX', 'OFFICE & SHOWROOM',\n",
       "       'PARKING LOT', 'VACANT LAND (NEC)', 'APARTMENT', 'THEATER',\n",
       "       'LIGHT INDUSTRIAL', 'FINANCIAL BUILDING', 'Condominium Building',\n",
       "       'MISC IMPROVEMENTS', 'RETAIL TRADE', 'PUBLIC (NEC)',\n",
       "       'TRANSPORT (NEC)', 'PARKING STRUCTURE', 'COMMERCIAL (NEC)',\n",
       "       'QUADRUPLEX', 'WAREHOUSE', 'INDUSTRIAL CONDOMINIUM', 'AUTO REPAIR',\n",
       "       'PARK', 'RELIGIOUS', 'LIBRARY/MUSEUM', 'MISC COMMERCIAL SERVICES',\n",
       "       'ORPHANAGE', 'RESORT HOTEL', 'SEC EDUCATIONAL SCHOOL',\n",
       "       'TOWNHOUSE/ROWHOUSE', 'TAX EXEMPT', 'MEDICAL BUILDING',\n",
       "       'POLICE/FIRE/CIVIL DEFENSE', 'UNIVERSITY',\n",
       "       'VOCATIONAL/TRADE SCHOOL', 'RESIDENCE HALL/DORMITORIES',\n",
       "       'RESTAURANT BUILDING', 'Single Family Residence w/ ADU',\n",
       "       'RESIDENTIAL - VACANT LAND', 'COMMERCIAL ACREAGE',\n",
       "       'MULTI FAMILY ACREAGE', 'STORAGE', 'INDUSTRIAL ACREAGE',\n",
       "       'RESIDENTIAL (NEC)', 'STRIP COMMERCIAL CENTER'], dtype=object)"
      ]
     },
     "execution_count": 112,
     "metadata": {},
     "output_type": "execute_result"
    }
   ],
   "source": [
    "df2[\"summary.proptype\"].unique()"
   ]
  },
  {
   "cell_type": "code",
   "execution_count": 148,
   "id": "9b597de7-39e2-4e47-b16d-8843a0d2e6f0",
   "metadata": {
    "scrolled": true
   },
   "outputs": [
    {
     "data": {
      "text/plain": [
       "array(['Condominium (residential)', 'Apartment', 'Hotel, Motel',\n",
       "       'Commercial', 'Single Family Residence / Townhouse',\n",
       "       'Office Building', 'Duplex, Triplex, Quadplex', nan, 'Parking',\n",
       "       'Vacant', 'Amusement-Recreation', 'Industrial Light',\n",
       "       'Financial Institution', 'Retail', 'Exempt', 'Transport',\n",
       "       'Industrial', 'Service (general public)',\n",
       "       'Hospital (medical complex, clinic)'], dtype=object)"
      ]
     },
     "execution_count": 148,
     "metadata": {},
     "output_type": "execute_result"
    }
   ],
   "source": [
    "\n",
    "df2[\"summary.propclass\"].unique() # i think tis is the best "
   ]
  },
  {
   "cell_type": "code",
   "execution_count": 114,
   "id": "2c9b5d19-cd79-4fe6-8624-95ba414e0efa",
   "metadata": {},
   "outputs": [
    {
     "data": {
      "text/plain": [
       "array(['Residential', 'Commercial', 'COMMERCIAL', 'VACANT LAND',\n",
       "       'INDUSTRIAL', 'OTHER / UNKNOWN', 'PUBLIC WORKS'], dtype=object)"
      ]
     },
     "execution_count": 114,
     "metadata": {},
     "output_type": "execute_result"
    }
   ],
   "source": [
    "df2[\"summary.propsubtype\"].unique()"
   ]
  },
  {
   "cell_type": "code",
   "execution_count": 117,
   "id": "2d6fabcf-841a-492e-836a-16d13c6a1196",
   "metadata": {},
   "outputs": [
    {
     "data": {
      "text/plain": [
       "array(['VIEW - NONE'], dtype=object)"
      ]
     },
     "execution_count": 117,
     "metadata": {},
     "output_type": "execute_result"
    }
   ],
   "source": [
    "\t\n",
    "df2[\"building.summary.view\"].unique() # i think this will effect the price "
   ]
  },
  {
   "cell_type": "code",
   "execution_count": 142,
   "id": "65519208-ce90-4684-9a05-b62e047c730f",
   "metadata": {},
   "outputs": [
    {
     "data": {
      "text/plain": [
       "array([ 936., 7424., 6765., ..., 1542., 1444., 1422.], shape=(1937,))"
      ]
     },
     "execution_count": 142,
     "metadata": {},
     "output_type": "execute_result"
    }
   ],
   "source": [
    "\n",
    "df2[\"building.size.livingsize\"].unique()#we will ned this "
   ]
  },
  {
   "cell_type": "code",
   "execution_count": 143,
   "id": "c94e91cf-74a4-423d-9e19-b11b262d599d",
   "metadata": {},
   "outputs": [
    {
     "data": {
      "text/plain": [
       "array([nan,  1.,  2.,  3.,  5.,  6.,  4.,  8., 19., 10.,  7., 11., 16.])"
      ]
     },
     "execution_count": 143,
     "metadata": {},
     "output_type": "execute_result"
    }
   ],
   "source": [
    "\n",
    "df2[\"building.rooms.bathstotal\"].unique()#i will see about this "
   ]
  },
  {
   "cell_type": "code",
   "execution_count": 173,
   "id": "dcfe677a-af3e-4a67-b182-ef008657fceb",
   "metadata": {
    "scrolled": true
   },
   "outputs": [
    {
     "data": {
      "text/plain": [
       "array([nan,  3.,  5.,  2.,  6.,  9.,  7., 10.,  4.,  1.,  8., 12., 15.,\n",
       "       11.])"
      ]
     },
     "execution_count": 173,
     "metadata": {},
     "output_type": "execute_result"
    }
   ],
   "source": [
    "df2[\"building.rooms.beds\"].unique()# i defintly taking this "
   ]
  },
  {
   "cell_type": "code",
   "execution_count": 145,
   "id": "10a7679b-1f71-45d1-b917-c0c8174075d6",
   "metadata": {},
   "outputs": [
    {
     "data": {
      "text/plain": [
       "array([nan,  1.,  2.,  3.,  5.,  6.,  4.,  8., 19., 10.,  7., 11.])"
      ]
     },
     "execution_count": 145,
     "metadata": {},
     "output_type": "execute_result"
    }
   ],
   "source": [
    "df2[\"building.rooms.bathsfull\"].unique() "
   ]
  },
  {
   "cell_type": "code",
   "execution_count": 126,
   "id": "3d326061",
   "metadata": {
    "scrolled": true
   },
   "outputs": [
    {
     "data": {
      "text/plain": [
       "array([nan, 'AVERAGE', 'GOOD', 'FAIR'], dtype=object)"
      ]
     },
     "execution_count": 126,
     "metadata": {},
     "output_type": "execute_result"
    }
   ],
   "source": [
    "df2[\"building.construction.condition\"].unique()"
   ]
  },
  {
   "cell_type": "code",
   "execution_count": 128,
   "id": "ec1a97de-af0c-4b45-868e-46a0b0558fce",
   "metadata": {},
   "outputs": [
    {
     "data": {
      "text/plain": [
       "array([nan, 'WOOD', 'CONCRETE', 'MASONRY'], dtype=object)"
      ]
     },
     "execution_count": 128,
     "metadata": {},
     "output_type": "execute_result"
    }
   ],
   "source": [
    "df2[\"building.construction.frameType\"].unique()"
   ]
  },
  {
   "cell_type": "code",
   "execution_count": 132,
   "id": "336748d7",
   "metadata": {},
   "outputs": [
    {
     "data": {
      "text/plain": [
       "array([nan, '79', '36', '147', '18', '78', '109', '21', '126', '9', '68',\n",
       "       '16', '2', '5', '3', '1', '4', '8', '7', '6', '11', '20', '10',\n",
       "       '12'], dtype=object)"
      ]
     },
     "execution_count": 132,
     "metadata": {},
     "output_type": "execute_result"
    }
   ],
   "source": [
    "df2[\"building.parking.prkgSpaces\"].unique()"
   ]
  },
  {
   "cell_type": "code",
   "execution_count": 146,
   "id": "fa1f73f7",
   "metadata": {},
   "outputs": [
    {
     "data": {
      "text/plain": [
       "array(['NO POOL', nan, 'SPA/HOT TUB (ONLY)', 'INDOOR POOL'], dtype=object)"
      ]
     },
     "execution_count": 146,
     "metadata": {},
     "output_type": "execute_result"
    }
   ],
   "source": [
    "df2[\"lot.pooltype\"].unique() #i think this will effect the price "
   ]
  },
  {
   "cell_type": "code",
   "execution_count": 147,
   "id": "46b1f3a1-4696-413b-a049-9796a62fee52",
   "metadata": {},
   "outputs": [
    {
     "data": {
      "text/plain": [
       "array([nan, 'AVERAGE', 'GOOD', 'FAIR', 'VERY GOOD', 'LOW'], dtype=object)"
      ]
     },
     "execution_count": 147,
     "metadata": {},
     "output_type": "execute_result"
    }
   ],
   "source": [
    "df2[\"building.summary.quality\"].unique() # i am taking this "
   ]
  },
  {
   "cell_type": "code",
   "execution_count": 138,
   "id": "c40d473b",
   "metadata": {},
   "outputs": [
    {
     "data": {
      "text/plain": [
       "array([ 3.,  4.,  5.,  2.,  6., 35., nan, 20., 10.,  1., 19., 21., 16.,\n",
       "       22.,  7., 13., 14., 41.,  8., 12., 18., 25., 11.,  9., 59., 36.,\n",
       "       24., 32., 40., 33., 34., 58., 56., 66., 17., 15., 27.])"
      ]
     },
     "execution_count": 138,
     "metadata": {},
     "output_type": "execute_result"
    }
   ],
   "source": [
    "df2[\"building.summary.levels\"].unique()"
   ]
  },
  {
   "cell_type": "markdown",
   "id": "92f8bd18-62ea-4815-be5b-04048f03ded8",
   "metadata": {},
   "source": [
    "## final Data set from frist API"
   ]
  },
  {
   "cell_type": "code",
   "execution_count": 269,
   "id": "3fb6df2e-30f1-4985-9c06-d5f86c8068d3",
   "metadata": {},
   "outputs": [],
   "source": [
    "# list of all the columns i need \n",
    "df2_col=[\"identifier.Id\",\"address.countrySubd\",\"summary.propclass\",\"building.size.livingsize\",\"building.rooms.bathstotal\",\n",
    "         \"building.rooms.beds\",\"building.parking.prkgSpaces\",\"lot.pooltype\",\"building.summary.quality\"]\n",
    "\n",
    "df2_M = df2[df2_col].rename(columns={\"identifier.Id\": \"id\",\"address.countrySubd\": \"state\",\n",
    "    \"summary.propclass\": \"property_class\",\n",
    "    \"building.size.livingsize\": \"living_size\",\n",
    "    \"building.rooms.bathstotal\": \"bathrooms\",\n",
    "    \"building.rooms.beds\": \"total_rooms\",\n",
    "    \"building.parking.prkgSpaces\": \"parking_spaces\",\n",
    "    \"lot.pooltype\": \"pool_type\",\n",
    "    \"building.summary.quality\": \"quality\" })"
   ]
  },
  {
   "cell_type": "code",
   "execution_count": 270,
   "id": "a993dcd1-617d-485b-8c3a-8d4d0a475526",
   "metadata": {
    "scrolled": true
   },
   "outputs": [
    {
     "data": {
      "text/html": [
       "<div>\n",
       "<style scoped>\n",
       "    .dataframe tbody tr th:only-of-type {\n",
       "        vertical-align: middle;\n",
       "    }\n",
       "\n",
       "    .dataframe tbody tr th {\n",
       "        vertical-align: top;\n",
       "    }\n",
       "\n",
       "    .dataframe thead th {\n",
       "        text-align: right;\n",
       "    }\n",
       "</style>\n",
       "<table border=\"1\" class=\"dataframe\">\n",
       "  <thead>\n",
       "    <tr style=\"text-align: right;\">\n",
       "      <th></th>\n",
       "      <th>id</th>\n",
       "      <th>state</th>\n",
       "      <th>property_class</th>\n",
       "      <th>living_size</th>\n",
       "      <th>bathrooms</th>\n",
       "      <th>total_rooms</th>\n",
       "      <th>parking_spaces</th>\n",
       "      <th>pool_type</th>\n",
       "      <th>quality</th>\n",
       "    </tr>\n",
       "  </thead>\n",
       "  <tbody>\n",
       "    <tr>\n",
       "      <th>0</th>\n",
       "      <td>30267</td>\n",
       "      <td>NY</td>\n",
       "      <td>Condominium (residential)</td>\n",
       "      <td>936.0</td>\n",
       "      <td>NaN</td>\n",
       "      <td>NaN</td>\n",
       "      <td>NaN</td>\n",
       "      <td>NO POOL</td>\n",
       "      <td>NaN</td>\n",
       "    </tr>\n",
       "    <tr>\n",
       "      <th>1</th>\n",
       "      <td>398087</td>\n",
       "      <td>NY</td>\n",
       "      <td>Apartment</td>\n",
       "      <td>7424.0</td>\n",
       "      <td>NaN</td>\n",
       "      <td>NaN</td>\n",
       "      <td>NaN</td>\n",
       "      <td>NO POOL</td>\n",
       "      <td>NaN</td>\n",
       "    </tr>\n",
       "    <tr>\n",
       "      <th>2</th>\n",
       "      <td>1395391</td>\n",
       "      <td>NY</td>\n",
       "      <td>Apartment</td>\n",
       "      <td>6765.0</td>\n",
       "      <td>NaN</td>\n",
       "      <td>NaN</td>\n",
       "      <td>NaN</td>\n",
       "      <td>NO POOL</td>\n",
       "      <td>NaN</td>\n",
       "    </tr>\n",
       "    <tr>\n",
       "      <th>3</th>\n",
       "      <td>1395418</td>\n",
       "      <td>NY</td>\n",
       "      <td>Hotel, Motel</td>\n",
       "      <td>6578.0</td>\n",
       "      <td>NaN</td>\n",
       "      <td>NaN</td>\n",
       "      <td>NaN</td>\n",
       "      <td>NO POOL</td>\n",
       "      <td>NaN</td>\n",
       "    </tr>\n",
       "    <tr>\n",
       "      <th>4</th>\n",
       "      <td>1528817</td>\n",
       "      <td>NY</td>\n",
       "      <td>Commercial</td>\n",
       "      <td>3366.0</td>\n",
       "      <td>NaN</td>\n",
       "      <td>NaN</td>\n",
       "      <td>NaN</td>\n",
       "      <td>NO POOL</td>\n",
       "      <td>NaN</td>\n",
       "    </tr>\n",
       "    <tr>\n",
       "      <th>...</th>\n",
       "      <td>...</td>\n",
       "      <td>...</td>\n",
       "      <td>...</td>\n",
       "      <td>...</td>\n",
       "      <td>...</td>\n",
       "      <td>...</td>\n",
       "      <td>...</td>\n",
       "      <td>...</td>\n",
       "      <td>...</td>\n",
       "    </tr>\n",
       "    <tr>\n",
       "      <th>4495</th>\n",
       "      <td>17867111</td>\n",
       "      <td>WY</td>\n",
       "      <td>Single Family Residence / Townhouse</td>\n",
       "      <td>1747.0</td>\n",
       "      <td>3.0</td>\n",
       "      <td>NaN</td>\n",
       "      <td>2</td>\n",
       "      <td>NO POOL</td>\n",
       "      <td>AVERAGE</td>\n",
       "    </tr>\n",
       "    <tr>\n",
       "      <th>4496</th>\n",
       "      <td>17867112</td>\n",
       "      <td>WY</td>\n",
       "      <td>Single Family Residence / Townhouse</td>\n",
       "      <td>1800.0</td>\n",
       "      <td>3.0</td>\n",
       "      <td>NaN</td>\n",
       "      <td>2</td>\n",
       "      <td>NaN</td>\n",
       "      <td>FAIR</td>\n",
       "    </tr>\n",
       "    <tr>\n",
       "      <th>4497</th>\n",
       "      <td>17867113</td>\n",
       "      <td>WY</td>\n",
       "      <td>Single Family Residence / Townhouse</td>\n",
       "      <td>1560.0</td>\n",
       "      <td>3.0</td>\n",
       "      <td>3.0</td>\n",
       "      <td>3</td>\n",
       "      <td>NO POOL</td>\n",
       "      <td>FAIR</td>\n",
       "    </tr>\n",
       "    <tr>\n",
       "      <th>4498</th>\n",
       "      <td>17867114</td>\n",
       "      <td>WY</td>\n",
       "      <td>Single Family Residence / Townhouse</td>\n",
       "      <td>1246.0</td>\n",
       "      <td>3.0</td>\n",
       "      <td>NaN</td>\n",
       "      <td>3</td>\n",
       "      <td>NO POOL</td>\n",
       "      <td>AVERAGE</td>\n",
       "    </tr>\n",
       "    <tr>\n",
       "      <th>4499</th>\n",
       "      <td>17867115</td>\n",
       "      <td>WY</td>\n",
       "      <td>Single Family Residence / Townhouse</td>\n",
       "      <td>1246.0</td>\n",
       "      <td>3.0</td>\n",
       "      <td>NaN</td>\n",
       "      <td>3</td>\n",
       "      <td>NO POOL</td>\n",
       "      <td>AVERAGE</td>\n",
       "    </tr>\n",
       "  </tbody>\n",
       "</table>\n",
       "<p>4500 rows × 9 columns</p>\n",
       "</div>"
      ],
      "text/plain": [
       "            id state                       property_class  living_size  \\\n",
       "0        30267    NY            Condominium (residential)        936.0   \n",
       "1       398087    NY                            Apartment       7424.0   \n",
       "2      1395391    NY                            Apartment       6765.0   \n",
       "3      1395418    NY                         Hotel, Motel       6578.0   \n",
       "4      1528817    NY                           Commercial       3366.0   \n",
       "...        ...   ...                                  ...          ...   \n",
       "4495  17867111    WY  Single Family Residence / Townhouse       1747.0   \n",
       "4496  17867112    WY  Single Family Residence / Townhouse       1800.0   \n",
       "4497  17867113    WY  Single Family Residence / Townhouse       1560.0   \n",
       "4498  17867114    WY  Single Family Residence / Townhouse       1246.0   \n",
       "4499  17867115    WY  Single Family Residence / Townhouse       1246.0   \n",
       "\n",
       "      bathrooms  total_rooms parking_spaces pool_type  quality  \n",
       "0           NaN          NaN            NaN   NO POOL      NaN  \n",
       "1           NaN          NaN            NaN   NO POOL      NaN  \n",
       "2           NaN          NaN            NaN   NO POOL      NaN  \n",
       "3           NaN          NaN            NaN   NO POOL      NaN  \n",
       "4           NaN          NaN            NaN   NO POOL      NaN  \n",
       "...         ...          ...            ...       ...      ...  \n",
       "4495        3.0          NaN              2   NO POOL  AVERAGE  \n",
       "4496        3.0          NaN              2       NaN     FAIR  \n",
       "4497        3.0          3.0              3   NO POOL     FAIR  \n",
       "4498        3.0          NaN              3   NO POOL  AVERAGE  \n",
       "4499        3.0          NaN              3   NO POOL  AVERAGE  \n",
       "\n",
       "[4500 rows x 9 columns]"
      ]
     },
     "execution_count": 270,
     "metadata": {},
     "output_type": "execute_result"
    }
   ],
   "source": [
    "df2_M"
   ]
  },
  {
   "cell_type": "code",
   "execution_count": 271,
   "id": "12d932ae-003f-41e0-86a0-a27a153ba275",
   "metadata": {},
   "outputs": [
    {
     "name": "stdout",
     "output_type": "stream",
     "text": [
      "<class 'pandas.core.frame.DataFrame'>\n",
      "RangeIndex: 4500 entries, 0 to 4499\n",
      "Data columns (total 9 columns):\n",
      " #   Column          Non-Null Count  Dtype  \n",
      "---  ------          --------------  -----  \n",
      " 0   id              4500 non-null   int64  \n",
      " 1   state           4500 non-null   object \n",
      " 2   property_class  4463 non-null   object \n",
      " 3   living_size     3599 non-null   float64\n",
      " 4   bathrooms       1739 non-null   float64\n",
      " 5   total_rooms     850 non-null    float64\n",
      " 6   parking_spaces  859 non-null    object \n",
      " 7   pool_type       4304 non-null   object \n",
      " 8   quality         1509 non-null   object \n",
      "dtypes: float64(3), int64(1), object(5)\n",
      "memory usage: 316.5+ KB\n"
     ]
    }
   ],
   "source": [
    "df2_M. info()"
   ]
  },
  {
   "cell_type": "markdown",
   "id": "a25360cb-6e38-4efa-9e00-4c93fc0f4a7c",
   "metadata": {
    "jp-MarkdownHeadingCollapsed": true
   },
   "source": [
    "# second API /sale/detail"
   ]
  },
  {
   "cell_type": "code",
   "execution_count": null,
   "id": "c0e91ec7-d5fb-4fb5-8a66-c9f78b756535",
   "metadata": {},
   "outputs": [],
   "source": [
    "\n",
    "postal_codes = [\"10001\", \"10002\", \"10003\", \"90001\", \"82009\"]\n",
    "\n",
    "base_url = \"https://api.gateway.attomdata.com/propertyapi/v1.0.0/sale/detail\"\n",
    "\n",
    "all_properties = []\n",
    "\n",
    "for code in postal_codes:\n",
    "    for page in range(1, 10): \n",
    "        params = {\n",
    "            \"postalcode\": code,\n",
    "            \"page\": page,\n",
    "            \"pagesize\": 100  \n",
    "        }\n",
    "\n",
    "        response = requests.get(base_url, headers=headers, params=params)\n",
    "        if response.status_code == 200:\n",
    "            data = response.json()\n",
    "            properties = data.get(\"property\", [])\n",
    "            if not properties:\n",
    "                break  # No more data\n",
    "            all_properties.extend(properties)\n",
    "            print(f\" Retrieved page {page} for ZIP {code}\")\n",
    "            time.sleep(1.2) \n",
    "        else:\n",
    "            print(f\" Failed for ZIP {code} page {page}: {response.status_code}\")\n",
    "            break\n"
   ]
  },
  {
   "cell_type": "code",
   "execution_count": null,
   "id": "62dedbad-0681-4280-9674-bb88b8237751",
   "metadata": {},
   "outputs": [],
   "source": [
    "# Save JSON\n",
    "with open(\"attom_raw_data.json\", \"w\") as f:\n",
    "    json.dump(all_properties, f, indent=2)\n",
    "\n",
    "# Flatten and save CSV\n",
    "df3 = pd.json_normalize(all_properties)\n",
    "df3.to_csv(\"attom_raw_data3.csv\", index=False)\n",
    "print(df3.shape)"
   ]
  },
  {
   "cell_type": "code",
   "execution_count": 182,
   "id": "0564f2ab-771f-4312-afe5-b31421ed32f9",
   "metadata": {
    "scrolled": true
   },
   "outputs": [
    {
     "data": {
      "text/plain": [
       "['identifier.Id',\n",
       " 'identifier.fips',\n",
       " 'identifier.apn',\n",
       " 'identifier.attomId',\n",
       " 'lot.lotnum',\n",
       " 'lot.pooltype',\n",
       " 'area.blockNum',\n",
       " 'area.loctype',\n",
       " 'area.countrysecsubd',\n",
       " 'area.countyuse1',\n",
       " 'area.muncode',\n",
       " 'area.munname',\n",
       " 'area.srvySection',\n",
       " 'area.srvyTownship',\n",
       " 'area.subdname',\n",
       " 'area.taxcodearea',\n",
       " 'address.country',\n",
       " 'address.countrySubd',\n",
       " 'address.line1',\n",
       " 'address.line2',\n",
       " 'address.locality',\n",
       " 'address.matchCode',\n",
       " 'address.oneLine',\n",
       " 'address.postal1',\n",
       " 'address.postal2',\n",
       " 'address.postal3',\n",
       " 'location.accuracy',\n",
       " 'location.latitude',\n",
       " 'location.longitude',\n",
       " 'location.distance',\n",
       " 'location.geoid',\n",
       " 'location.geoIdV4.CO',\n",
       " 'location.geoIdV4.CS',\n",
       " 'location.geoIdV4.DB',\n",
       " 'location.geoIdV4.N1',\n",
       " 'location.geoIdV4.N2',\n",
       " 'location.geoIdV4.PL',\n",
       " 'location.geoIdV4.SB',\n",
       " 'location.geoIdV4.ZI',\n",
       " 'summary.absenteeInd',\n",
       " 'summary.propclass',\n",
       " 'summary.propsubtype',\n",
       " 'summary.proptype',\n",
       " 'summary.propertyType',\n",
       " 'summary.yearbuilt',\n",
       " 'summary.propLandUse',\n",
       " 'summary.propIndicator',\n",
       " 'summary.legal1',\n",
       " 'building.size.bldgsize',\n",
       " 'building.size.grosssize',\n",
       " 'building.size.grosssizeadjusted',\n",
       " 'building.size.livingsize',\n",
       " 'building.size.sizeInd',\n",
       " 'building.size.universalsize',\n",
       " 'building.summary.bldgType',\n",
       " 'building.summary.imprType',\n",
       " 'building.summary.levels',\n",
       " 'building.summary.storyDesc',\n",
       " 'building.summary.unitsCount',\n",
       " 'building.summary.view',\n",
       " 'building.summary.viewCode',\n",
       " 'building.summary.yearbuilteffective',\n",
       " 'vintage.lastModified',\n",
       " 'vintage.pubDate',\n",
       " 'sale.salesearchdate',\n",
       " 'sale.saleTransDate',\n",
       " 'sale.amount.saleamt',\n",
       " 'sale.amount.salecode',\n",
       " 'sale.amount.salerecdate',\n",
       " 'sale.amount.saledisclosuretype',\n",
       " 'sale.amount.saledocnum',\n",
       " 'sale.amount.saletranstype',\n",
       " 'sale.calculation.pricepersizeunit',\n",
       " 'sale.interfamily',\n",
       " 'sale.resaleornewconstruction',\n",
       " 'sale.cashormortgagepurchase',\n",
       " 'sale.vintage.lastModified',\n",
       " 'lot.depth',\n",
       " 'lot.frontage',\n",
       " 'lot.lotsize1',\n",
       " 'lot.lotsize2',\n",
       " 'location.geoIdV4.N4',\n",
       " 'sale.amount.saledoctype',\n",
       " 'sale.constructionloan',\n",
       " 'building.construction.constructiontype',\n",
       " 'sale.sellercarryback',\n",
       " 'location.geoIdV4.N3',\n",
       " 'sale.foreclosure',\n",
       " 'building.parking.prkgSize',\n",
       " 'building.parking.prkgSpaces',\n",
       " 'sale.privatepartylender',\n",
       " 'building.summary.archStyle',\n",
       " 'area.subdtractnum',\n",
       " 'utilities.coolingtype',\n",
       " 'building.rooms.bathsfull',\n",
       " 'building.rooms.bathstotal',\n",
       " 'building.rooms.beds',\n",
       " 'building.construction.frameType',\n",
       " 'building.summary.quality',\n",
       " 'sale.calculation.priceperbed',\n",
       " 'utilities.heatingtype',\n",
       " 'building.rooms.roomsTotal',\n",
       " 'building.interior.floors',\n",
       " 'lot.poolind',\n",
       " 'building.parking.garagetype',\n",
       " 'building.parking.prkgType',\n",
       " 'area.srvyRange',\n",
       " 'utilities.heatingfuel',\n",
       " 'building.interior.bsmtsize',\n",
       " 'building.interior.bsmttype',\n",
       " 'building.interior.fplccount',\n",
       " 'building.interior.fplcind',\n",
       " 'building.interior.fplctype',\n",
       " 'building.construction.condition',\n",
       " 'building.construction.roofcover',\n",
       " 'building.construction.roofShape',\n",
       " 'building.construction.wallType',\n",
       " 'building.summary.bldgsNum',\n",
       " 'building.rooms.bathspartial']"
      ]
     },
     "execution_count": 182,
     "metadata": {},
     "output_type": "execute_result"
    }
   ],
   "source": [
    "list(df3.columns)"
   ]
  },
  {
   "cell_type": "code",
   "execution_count": 136,
   "id": "b73586cf",
   "metadata": {},
   "outputs": [
    {
     "data": {
      "text/plain": [
       "array([ 950000.,      nan, 2600000., ...,  554625.,  220669.,  235443.],\n",
       "      shape=(1661,))"
      ]
     },
     "execution_count": 136,
     "metadata": {},
     "output_type": "execute_result"
    }
   ],
   "source": [
    "df3[\"sale.amount.saleamt\"].unique()"
   ]
  },
  {
   "cell_type": "markdown",
   "id": "624ec19e-d23c-4191-9751-42c7c042587f",
   "metadata": {},
   "source": [
    "## final data set for the seconed API"
   ]
  },
  {
   "cell_type": "code",
   "execution_count": 163,
   "id": "d67ac99f-4e45-42ea-b47f-5b5164985c78",
   "metadata": {},
   "outputs": [],
   "source": [
    "df3_columns = ['identifier.Id',\"sale.amount.saleamt\"]\n",
    "df3_M= df3[df3_columns].rename(columns={\"identifier.Id\": \"id\", \"sale.amount.saleamt\": \"sale_price\"})"
   ]
  },
  {
   "cell_type": "code",
   "execution_count": 164,
   "id": "0d0eced5-2efb-4ef0-86f7-65b20c4df489",
   "metadata": {
    "scrolled": true
   },
   "outputs": [
    {
     "data": {
      "text/html": [
       "<div>\n",
       "<style scoped>\n",
       "    .dataframe tbody tr th:only-of-type {\n",
       "        vertical-align: middle;\n",
       "    }\n",
       "\n",
       "    .dataframe tbody tr th {\n",
       "        vertical-align: top;\n",
       "    }\n",
       "\n",
       "    .dataframe thead th {\n",
       "        text-align: right;\n",
       "    }\n",
       "</style>\n",
       "<table border=\"1\" class=\"dataframe\">\n",
       "  <thead>\n",
       "    <tr style=\"text-align: right;\">\n",
       "      <th></th>\n",
       "      <th>id</th>\n",
       "      <th>sale_price</th>\n",
       "    </tr>\n",
       "  </thead>\n",
       "  <tbody>\n",
       "    <tr>\n",
       "      <th>0</th>\n",
       "      <td>30267</td>\n",
       "      <td>950000.0</td>\n",
       "    </tr>\n",
       "    <tr>\n",
       "      <th>1</th>\n",
       "      <td>398087</td>\n",
       "      <td>NaN</td>\n",
       "    </tr>\n",
       "    <tr>\n",
       "      <th>2</th>\n",
       "      <td>1395391</td>\n",
       "      <td>2600000.0</td>\n",
       "    </tr>\n",
       "    <tr>\n",
       "      <th>3</th>\n",
       "      <td>1395418</td>\n",
       "      <td>NaN</td>\n",
       "    </tr>\n",
       "    <tr>\n",
       "      <th>4</th>\n",
       "      <td>1528817</td>\n",
       "      <td>NaN</td>\n",
       "    </tr>\n",
       "    <tr>\n",
       "      <th>...</th>\n",
       "      <td>...</td>\n",
       "      <td>...</td>\n",
       "    </tr>\n",
       "    <tr>\n",
       "      <th>4442</th>\n",
       "      <td>17867111</td>\n",
       "      <td>256075.0</td>\n",
       "    </tr>\n",
       "    <tr>\n",
       "      <th>4443</th>\n",
       "      <td>17867112</td>\n",
       "      <td>554625.0</td>\n",
       "    </tr>\n",
       "    <tr>\n",
       "      <th>4444</th>\n",
       "      <td>17867113</td>\n",
       "      <td>220669.0</td>\n",
       "    </tr>\n",
       "    <tr>\n",
       "      <th>4445</th>\n",
       "      <td>17867114</td>\n",
       "      <td>285000.0</td>\n",
       "    </tr>\n",
       "    <tr>\n",
       "      <th>4446</th>\n",
       "      <td>17867115</td>\n",
       "      <td>235443.0</td>\n",
       "    </tr>\n",
       "  </tbody>\n",
       "</table>\n",
       "<p>4447 rows × 2 columns</p>\n",
       "</div>"
      ],
      "text/plain": [
       "            id  sale_price\n",
       "0        30267    950000.0\n",
       "1       398087         NaN\n",
       "2      1395391   2600000.0\n",
       "3      1395418         NaN\n",
       "4      1528817         NaN\n",
       "...        ...         ...\n",
       "4442  17867111    256075.0\n",
       "4443  17867112    554625.0\n",
       "4444  17867113    220669.0\n",
       "4445  17867114    285000.0\n",
       "4446  17867115    235443.0\n",
       "\n",
       "[4447 rows x 2 columns]"
      ]
     },
     "execution_count": 164,
     "metadata": {},
     "output_type": "execute_result"
    }
   ],
   "source": [
    "df3_M"
   ]
  },
  {
   "cell_type": "markdown",
   "id": "2f266153-d7d3-40b1-a139-738e23dd4d8f",
   "metadata": {
    "jp-MarkdownHeadingCollapsed": true
   },
   "source": [
    "# Marge two APIs togther "
   ]
  },
  {
   "cell_type": "code",
   "execution_count": 530,
   "id": "1fb97e23-9d58-4830-af26-48297ea01ea2",
   "metadata": {},
   "outputs": [],
   "source": [
    "df_merged = pd.merge(df2_M, df3_M, on=\"id\", how=\"inner\")"
   ]
  },
  {
   "cell_type": "code",
   "execution_count": 531,
   "id": "3dd1ee98-abb9-4b4b-8dd3-549dfb9120fc",
   "metadata": {
    "scrolled": true
   },
   "outputs": [
    {
     "data": {
      "text/html": [
       "<div>\n",
       "<style scoped>\n",
       "    .dataframe tbody tr th:only-of-type {\n",
       "        vertical-align: middle;\n",
       "    }\n",
       "\n",
       "    .dataframe tbody tr th {\n",
       "        vertical-align: top;\n",
       "    }\n",
       "\n",
       "    .dataframe thead th {\n",
       "        text-align: right;\n",
       "    }\n",
       "</style>\n",
       "<table border=\"1\" class=\"dataframe\">\n",
       "  <thead>\n",
       "    <tr style=\"text-align: right;\">\n",
       "      <th></th>\n",
       "      <th>id</th>\n",
       "      <th>state</th>\n",
       "      <th>property_class</th>\n",
       "      <th>living_size</th>\n",
       "      <th>bathrooms</th>\n",
       "      <th>total_rooms</th>\n",
       "      <th>parking_spaces</th>\n",
       "      <th>pool_type</th>\n",
       "      <th>quality</th>\n",
       "      <th>sale_price</th>\n",
       "    </tr>\n",
       "  </thead>\n",
       "  <tbody>\n",
       "    <tr>\n",
       "      <th>0</th>\n",
       "      <td>30267</td>\n",
       "      <td>NY</td>\n",
       "      <td>Condominium (residential)</td>\n",
       "      <td>936.0</td>\n",
       "      <td>NaN</td>\n",
       "      <td>NaN</td>\n",
       "      <td>NaN</td>\n",
       "      <td>NO POOL</td>\n",
       "      <td>NaN</td>\n",
       "      <td>950000.0</td>\n",
       "    </tr>\n",
       "    <tr>\n",
       "      <th>1</th>\n",
       "      <td>398087</td>\n",
       "      <td>NY</td>\n",
       "      <td>Apartment</td>\n",
       "      <td>7424.0</td>\n",
       "      <td>NaN</td>\n",
       "      <td>NaN</td>\n",
       "      <td>NaN</td>\n",
       "      <td>NO POOL</td>\n",
       "      <td>NaN</td>\n",
       "      <td>NaN</td>\n",
       "    </tr>\n",
       "    <tr>\n",
       "      <th>2</th>\n",
       "      <td>1395391</td>\n",
       "      <td>NY</td>\n",
       "      <td>Apartment</td>\n",
       "      <td>6765.0</td>\n",
       "      <td>NaN</td>\n",
       "      <td>NaN</td>\n",
       "      <td>NaN</td>\n",
       "      <td>NO POOL</td>\n",
       "      <td>NaN</td>\n",
       "      <td>2600000.0</td>\n",
       "    </tr>\n",
       "    <tr>\n",
       "      <th>3</th>\n",
       "      <td>1395418</td>\n",
       "      <td>NY</td>\n",
       "      <td>Hotel, Motel</td>\n",
       "      <td>6578.0</td>\n",
       "      <td>NaN</td>\n",
       "      <td>NaN</td>\n",
       "      <td>NaN</td>\n",
       "      <td>NO POOL</td>\n",
       "      <td>NaN</td>\n",
       "      <td>NaN</td>\n",
       "    </tr>\n",
       "    <tr>\n",
       "      <th>4</th>\n",
       "      <td>1528817</td>\n",
       "      <td>NY</td>\n",
       "      <td>Commercial</td>\n",
       "      <td>3366.0</td>\n",
       "      <td>NaN</td>\n",
       "      <td>NaN</td>\n",
       "      <td>NaN</td>\n",
       "      <td>NO POOL</td>\n",
       "      <td>NaN</td>\n",
       "      <td>NaN</td>\n",
       "    </tr>\n",
       "    <tr>\n",
       "      <th>...</th>\n",
       "      <td>...</td>\n",
       "      <td>...</td>\n",
       "      <td>...</td>\n",
       "      <td>...</td>\n",
       "      <td>...</td>\n",
       "      <td>...</td>\n",
       "      <td>...</td>\n",
       "      <td>...</td>\n",
       "      <td>...</td>\n",
       "      <td>...</td>\n",
       "    </tr>\n",
       "    <tr>\n",
       "      <th>4442</th>\n",
       "      <td>17867111</td>\n",
       "      <td>WY</td>\n",
       "      <td>Single Family Residence / Townhouse</td>\n",
       "      <td>1747.0</td>\n",
       "      <td>3.0</td>\n",
       "      <td>NaN</td>\n",
       "      <td>2</td>\n",
       "      <td>NO POOL</td>\n",
       "      <td>AVERAGE</td>\n",
       "      <td>256075.0</td>\n",
       "    </tr>\n",
       "    <tr>\n",
       "      <th>4443</th>\n",
       "      <td>17867112</td>\n",
       "      <td>WY</td>\n",
       "      <td>Single Family Residence / Townhouse</td>\n",
       "      <td>1800.0</td>\n",
       "      <td>3.0</td>\n",
       "      <td>NaN</td>\n",
       "      <td>2</td>\n",
       "      <td>NaN</td>\n",
       "      <td>FAIR</td>\n",
       "      <td>554625.0</td>\n",
       "    </tr>\n",
       "    <tr>\n",
       "      <th>4444</th>\n",
       "      <td>17867113</td>\n",
       "      <td>WY</td>\n",
       "      <td>Single Family Residence / Townhouse</td>\n",
       "      <td>1560.0</td>\n",
       "      <td>3.0</td>\n",
       "      <td>3.0</td>\n",
       "      <td>3</td>\n",
       "      <td>NO POOL</td>\n",
       "      <td>FAIR</td>\n",
       "      <td>220669.0</td>\n",
       "    </tr>\n",
       "    <tr>\n",
       "      <th>4445</th>\n",
       "      <td>17867114</td>\n",
       "      <td>WY</td>\n",
       "      <td>Single Family Residence / Townhouse</td>\n",
       "      <td>1246.0</td>\n",
       "      <td>3.0</td>\n",
       "      <td>NaN</td>\n",
       "      <td>3</td>\n",
       "      <td>NO POOL</td>\n",
       "      <td>AVERAGE</td>\n",
       "      <td>285000.0</td>\n",
       "    </tr>\n",
       "    <tr>\n",
       "      <th>4446</th>\n",
       "      <td>17867115</td>\n",
       "      <td>WY</td>\n",
       "      <td>Single Family Residence / Townhouse</td>\n",
       "      <td>1246.0</td>\n",
       "      <td>3.0</td>\n",
       "      <td>NaN</td>\n",
       "      <td>3</td>\n",
       "      <td>NO POOL</td>\n",
       "      <td>AVERAGE</td>\n",
       "      <td>235443.0</td>\n",
       "    </tr>\n",
       "  </tbody>\n",
       "</table>\n",
       "<p>4447 rows × 10 columns</p>\n",
       "</div>"
      ],
      "text/plain": [
       "            id state                       property_class  living_size  \\\n",
       "0        30267    NY            Condominium (residential)        936.0   \n",
       "1       398087    NY                            Apartment       7424.0   \n",
       "2      1395391    NY                            Apartment       6765.0   \n",
       "3      1395418    NY                         Hotel, Motel       6578.0   \n",
       "4      1528817    NY                           Commercial       3366.0   \n",
       "...        ...   ...                                  ...          ...   \n",
       "4442  17867111    WY  Single Family Residence / Townhouse       1747.0   \n",
       "4443  17867112    WY  Single Family Residence / Townhouse       1800.0   \n",
       "4444  17867113    WY  Single Family Residence / Townhouse       1560.0   \n",
       "4445  17867114    WY  Single Family Residence / Townhouse       1246.0   \n",
       "4446  17867115    WY  Single Family Residence / Townhouse       1246.0   \n",
       "\n",
       "      bathrooms  total_rooms parking_spaces pool_type  quality  sale_price  \n",
       "0           NaN          NaN            NaN   NO POOL      NaN    950000.0  \n",
       "1           NaN          NaN            NaN   NO POOL      NaN         NaN  \n",
       "2           NaN          NaN            NaN   NO POOL      NaN   2600000.0  \n",
       "3           NaN          NaN            NaN   NO POOL      NaN         NaN  \n",
       "4           NaN          NaN            NaN   NO POOL      NaN         NaN  \n",
       "...         ...          ...            ...       ...      ...         ...  \n",
       "4442        3.0          NaN              2   NO POOL  AVERAGE    256075.0  \n",
       "4443        3.0          NaN              2       NaN     FAIR    554625.0  \n",
       "4444        3.0          3.0              3   NO POOL     FAIR    220669.0  \n",
       "4445        3.0          NaN              3   NO POOL  AVERAGE    285000.0  \n",
       "4446        3.0          NaN              3   NO POOL  AVERAGE    235443.0  \n",
       "\n",
       "[4447 rows x 10 columns]"
      ]
     },
     "execution_count": 531,
     "metadata": {},
     "output_type": "execute_result"
    }
   ],
   "source": [
    "df_merged"
   ]
  },
  {
   "cell_type": "markdown",
   "id": "a05c166b-e7f2-4881-81e1-4997b36b683a",
   "metadata": {
    "jp-MarkdownHeadingCollapsed": true
   },
   "source": [
    "# Data Description"
   ]
  },
  {
   "cell_type": "code",
   "execution_count": 532,
   "id": "bca00391-bbcf-4e5a-bb8b-298ff7bd95d0",
   "metadata": {},
   "outputs": [
    {
     "name": "stdout",
     "output_type": "stream",
     "text": [
      "Data Types and Non-Null Counts:\n",
      "<class 'pandas.core.frame.DataFrame'>\n",
      "RangeIndex: 4447 entries, 0 to 4446\n",
      "Data columns (total 10 columns):\n",
      " #   Column          Non-Null Count  Dtype  \n",
      "---  ------          --------------  -----  \n",
      " 0   id              4447 non-null   int64  \n",
      " 1   state           4447 non-null   object \n",
      " 2   property_class  4410 non-null   object \n",
      " 3   living_size     3548 non-null   float64\n",
      " 4   bathrooms       1688 non-null   float64\n",
      " 5   total_rooms     850 non-null    float64\n",
      " 6   parking_spaces  814 non-null    object \n",
      " 7   pool_type       4266 non-null   object \n",
      " 8   quality         1458 non-null   object \n",
      " 9   sale_price      3509 non-null   float64\n",
      "dtypes: float64(4), int64(1), object(5)\n",
      "memory usage: 347.6+ KB\n",
      "None\n"
     ]
    }
   ],
   "source": [
    "print(\"Data Types and Non-Null Counts:\")\n",
    "print(df_merged.info())"
   ]
  },
  {
   "cell_type": "code",
   "execution_count": 533,
   "id": "f90c7571-b125-4529-a35a-1d3df5050654",
   "metadata": {},
   "outputs": [
    {
     "name": "stdout",
     "output_type": "stream",
     "text": [
      "\n",
      "Statistical Summary of Numeric Features:\n",
      "                 id   living_size    bathrooms  total_rooms    sale_price\n",
      "count  4.447000e+03  3.548000e+03  1688.000000   850.000000  3.509000e+03\n",
      "mean   2.800695e+07  6.673271e+03     2.402251     3.611765  2.256480e+06\n",
      "std    3.387960e+07  6.477949e+04     1.266941     1.890987  1.236107e+07\n",
      "min    7.960000e+02  1.440000e+02     1.000000     1.000000  1.000000e+03\n",
      "25%    7.030916e+06  9.880000e+02     2.000000     2.000000  2.999380e+05\n",
      "50%    2.664963e+07  1.504000e+03     2.000000     3.000000  5.479910e+05\n",
      "75%    3.298769e+07  2.779250e+03     3.000000     4.000000  1.272500e+06\n",
      "max    1.682992e+08  2.521850e+06    19.000000    15.000000  3.963951e+08\n"
     ]
    }
   ],
   "source": [
    "print(\"\\nStatistical Summary of Numeric Features:\")\n",
    "print(df_merged.describe())"
   ]
  },
  {
   "cell_type": "code",
   "execution_count": 534,
   "id": "3c549546-1d97-4cd9-87f1-6ab57194a912",
   "metadata": {},
   "outputs": [
    {
     "name": "stdout",
     "output_type": "stream",
     "text": [
      "\n",
      "Missing Values:\n",
      "id                   0\n",
      "state                0\n",
      "property_class      37\n",
      "living_size        899\n",
      "bathrooms         2759\n",
      "total_rooms       3597\n",
      "parking_spaces    3633\n",
      "pool_type          181\n",
      "quality           2989\n",
      "sale_price         938\n",
      "dtype: int64\n"
     ]
    }
   ],
   "source": [
    "print(\"\\nMissing Values:\")\n",
    "print(df_merged.isnull().sum())\n",
    "# i acn see that parking_spaces has alot od nul values drop the columne will be the best "
   ]
  },
  {
   "cell_type": "code",
   "execution_count": null,
   "id": "4bb3315c-28dd-48f6-b8dd-658b19a71f17",
   "metadata": {},
   "outputs": [],
   "source": []
  },
  {
   "cell_type": "markdown",
   "id": "50b665ca-1b21-4cfb-96be-459421cdd54f",
   "metadata": {},
   "source": [
    "# Feature Engineering"
   ]
  },
  {
   "cell_type": "markdown",
   "id": "d4fe6391-4e8f-4e07-ab94-656ede9b718a",
   "metadata": {
    "jp-MarkdownHeadingCollapsed": true
   },
   "source": [
    "## drop column"
   ]
  },
  {
   "cell_type": "code",
   "execution_count": 535,
   "id": "bd6ad296-d266-4a8c-b447-7a3aedc7cab8",
   "metadata": {},
   "outputs": [],
   "source": [
    "#drop id column and parking_spaces\n",
    "df_clean = df_merged.drop(columns=['id', 'parking_spaces'])    "
   ]
  },
  {
   "cell_type": "code",
   "execution_count": 536,
   "id": "c6617a47-63d4-4980-a395-bf5eb89684c0",
   "metadata": {},
   "outputs": [],
   "source": [
    "# drop rows with missing sale_price (target)\n",
    "df_clean = df_clean.dropna(subset=['sale_price'])"
   ]
  },
  {
   "cell_type": "markdown",
   "id": "64afd47f-2ab7-4899-aaa7-5a8e1b7b699b",
   "metadata": {
    "jp-MarkdownHeadingCollapsed": true
   },
   "source": [
    "## drop rows "
   ]
  },
  {
   "cell_type": "code",
   "execution_count": 537,
   "id": "f3bd3771-118d-4542-bea2-5c1a21968bd0",
   "metadata": {},
   "outputs": [],
   "source": [
    "# deop all the row that has all null\n",
    "df_cleaned = df.dropna(how='all')"
   ]
  },
  {
   "cell_type": "code",
   "execution_count": 538,
   "id": "9b98e5b5-819e-4449-99f7-baff81ee7aa2",
   "metadata": {},
   "outputs": [],
   "source": [
    "#drop any colum that has 4 or more \n",
    "df = df.dropna(thresh=8)"
   ]
  },
  {
   "cell_type": "markdown",
   "id": "bec9bccd-3d0b-4bb5-a223-d2b345903917",
   "metadata": {
    "jp-MarkdownHeadingCollapsed": true
   },
   "source": [
    "# Fill missing values"
   ]
  },
  {
   "cell_type": "code",
   "execution_count": 539,
   "id": "db067759-cf12-42ae-adb8-ce8931e1776a",
   "metadata": {
    "scrolled": true
   },
   "outputs": [
    {
     "name": "stderr",
     "output_type": "stream",
     "text": [
      "C:\\Users\\admin\\AppData\\Local\\Temp\\ipykernel_30652\\2698324465.py:2: FutureWarning: A value is trying to be set on a copy of a DataFrame or Series through chained assignment using an inplace method.\n",
      "The behavior will change in pandas 3.0. This inplace method will never work because the intermediate object on which we are setting values always behaves as a copy.\n",
      "\n",
      "For example, when doing 'df[col].method(value, inplace=True)', try using 'df.method({col: value}, inplace=True)' or df[col] = df[col].method(value) instead, to perform the operation inplace on the original object.\n",
      "\n",
      "\n",
      "  df_clean['pool_type'].fillna('NO POOL', inplace=True)\n"
     ]
    }
   ],
   "source": [
    "# fill any null with NO POOL \n",
    "df_clean['pool_type'].fillna('NO POOL', inplace=True)"
   ]
  },
  {
   "cell_type": "code",
   "execution_count": 540,
   "id": "5a841bff-72f2-4c13-9d7c-2cbc61138405",
   "metadata": {
    "scrolled": true
   },
   "outputs": [
    {
     "name": "stderr",
     "output_type": "stream",
     "text": [
      "C:\\Users\\admin\\AppData\\Local\\Temp\\ipykernel_30652\\2680158604.py:2: FutureWarning: A value is trying to be set on a copy of a DataFrame or Series through chained assignment using an inplace method.\n",
      "The behavior will change in pandas 3.0. This inplace method will never work because the intermediate object on which we are setting values always behaves as a copy.\n",
      "\n",
      "For example, when doing 'df[col].method(value, inplace=True)', try using 'df.method({col: value}, inplace=True)' or df[col] = df[col].method(value) instead, to perform the operation inplace on the original object.\n",
      "\n",
      "\n",
      "  df_clean['property_class'].fillna(df_clean['property_class'].mode()[0], inplace=True)\n"
     ]
    }
   ],
   "source": [
    "# fill any null with the most value repeted \n",
    "df_clean['property_class'].fillna(df_clean['property_class'].mode()[0], inplace=True)"
   ]
  },
  {
   "cell_type": "code",
   "execution_count": 541,
   "id": "fa0d1423-b8fa-41c6-932c-ca9c8097706d",
   "metadata": {},
   "outputs": [
    {
     "data": {
      "text/plain": [
       "np.float64(1406.0)"
      ]
     },
     "execution_count": 541,
     "metadata": {},
     "output_type": "execute_result"
    }
   ],
   "source": [
    "df_clean['living_size'].median()\n",
    "#df_clean['living_size'].fillna(df_clean['living_size'].median(), inplace=True)"
   ]
  },
  {
   "cell_type": "code",
   "execution_count": 542,
   "id": "7f4816c7-1ff1-49cd-b7a9-d6f834da268d",
   "metadata": {},
   "outputs": [
    {
     "name": "stderr",
     "output_type": "stream",
     "text": [
      "C:\\Users\\admin\\AppData\\Local\\Temp\\ipykernel_30652\\4215460761.py:2: FutureWarning: A value is trying to be set on a copy of a DataFrame or Series through chained assignment using an inplace method.\n",
      "The behavior will change in pandas 3.0. This inplace method will never work because the intermediate object on which we are setting values always behaves as a copy.\n",
      "\n",
      "For example, when doing 'df[col].method(value, inplace=True)', try using 'df.method({col: value}, inplace=True)' or df[col] = df[col].method(value) instead, to perform the operation inplace on the original object.\n",
      "\n",
      "\n",
      "  df_clean['bathrooms'].fillna(df_clean['bathrooms'].median(), inplace=True)\n"
     ]
    }
   ],
   "source": [
    "#df_clean['bathrooms'].median() #-->2\n",
    "df_clean['bathrooms'].fillna(df_clean['bathrooms'].median(), inplace=True)"
   ]
  },
  {
   "cell_type": "code",
   "execution_count": 543,
   "id": "dc3122bd-e2de-4bdf-adc9-e31b25daea09",
   "metadata": {},
   "outputs": [],
   "source": [
    "#df_clean['quality'].mode()[0]#-->AVERAGE\n",
    "#df_clean['quality'].fillna(df_clean['quality'].mode()[0], inplace=True)\n"
   ]
  },
  {
   "cell_type": "code",
   "execution_count": 544,
   "id": "a58228ea-a6c3-483d-b741-e91612532919",
   "metadata": {},
   "outputs": [
    {
     "data": {
      "text/plain": [
       "state                0\n",
       "property_class       0\n",
       "living_size        871\n",
       "bathrooms            0\n",
       "total_rooms       2789\n",
       "pool_type            0\n",
       "quality           2363\n",
       "sale_price           0\n",
       "dtype: int64"
      ]
     },
     "execution_count": 544,
     "metadata": {},
     "output_type": "execute_result"
    }
   ],
   "source": [
    "df_clean.isnull().sum()\n",
    "# we left with living_size, total_rooms and quality\n",
    "# which i will handel leter \n",
    "# living_size, total_rooms will be handel bas on ==property_class  \n",
    "# quality will be handel base on ==sale_price           "
   ]
  },
  {
   "cell_type": "code",
   "execution_count": 545,
   "id": "8cc500e2-2eb5-48e0-b469-2db6dcc844f8",
   "metadata": {},
   "outputs": [
    {
     "name": "stdout",
     "output_type": "stream",
     "text": [
      "<class 'pandas.core.frame.DataFrame'>\n",
      "Index: 3509 entries, 0 to 4446\n",
      "Data columns (total 8 columns):\n",
      " #   Column          Non-Null Count  Dtype  \n",
      "---  ------          --------------  -----  \n",
      " 0   state           3509 non-null   object \n",
      " 1   property_class  3509 non-null   object \n",
      " 2   living_size     2638 non-null   float64\n",
      " 3   bathrooms       3509 non-null   float64\n",
      " 4   total_rooms     720 non-null    float64\n",
      " 5   pool_type       3509 non-null   object \n",
      " 6   quality         1146 non-null   object \n",
      " 7   sale_price      3509 non-null   float64\n",
      "dtypes: float64(4), object(4)\n",
      "memory usage: 246.7+ KB\n"
     ]
    }
   ],
   "source": [
    "df_clean.info()"
   ]
  },
  {
   "cell_type": "markdown",
   "id": "56c90bd3-0400-467e-9471-36b8a421b391",
   "metadata": {},
   "source": [
    "### fill living_size   &   total_rooms  base on property_class  "
   ]
  },
  {
   "cell_type": "markdown",
   "id": "b5e7086b-1906-47bb-a005-efbe072e46b0",
   "metadata": {},
   "source": [
    "#### total_rooms"
   ]
  },
  {
   "cell_type": "code",
   "execution_count": 551,
   "id": "5e99a56c-4e96-4389-902a-3b85f8d502cc",
   "metadata": {},
   "outputs": [],
   "source": [
    "\n",
    "\n",
    "# One-hot encode property_class first\n",
    "df_encoded = pd.get_dummies(df_clean, columns=['property_class'])\n",
    "\n",
    "# Initialize imputer (using 5 nearest neighbors)\n",
    "imputer = KNNImputer(n_neighbors=5)\n",
    "df_encoded[['total_rooms']] = imputer.fit_transform(df_encoded[['total_rooms']])\n",
    "\n",
    "# Assign back to original dataframe and convert it to int \n",
    "df_clean['total_rooms'] = df_encoded['total_rooms'].round().astype(int)"
   ]
  },
  {
   "cell_type": "code",
   "execution_count": 552,
   "id": "19b23469-3770-4a6a-919f-1a38ea05fe05",
   "metadata": {},
   "outputs": [
    {
     "name": "stdout",
     "output_type": "stream",
     "text": [
      "\n",
      "Value counts after imputation:\n",
      "total_rooms\n",
      "1       17\n",
      "2      200\n",
      "3      215\n",
      "4     2942\n",
      "5       43\n",
      "6       41\n",
      "7       12\n",
      "8       14\n",
      "9        7\n",
      "10      15\n",
      "11       2\n",
      "12       1\n",
      "Name: count, dtype: int64\n"
     ]
    }
   ],
   "source": [
    "print(\"\\nValue counts after imputation:\")\n",
    "print(df_clean['total_rooms'].value_counts().sort_index())"
   ]
  },
  {
   "cell_type": "markdown",
   "id": "be756e14-2510-45e1-a0f5-02665db7cab1",
   "metadata": {},
   "source": [
    "#### living_size"
   ]
  },
  {
   "cell_type": "code",
   "execution_count": 562,
   "id": "87afcba2-7b54-40f6-b355-37026ab3f606",
   "metadata": {},
   "outputs": [
    {
     "name": "stdout",
     "output_type": "stream",
     "text": [
      "Remaining missing values in living_size: 0\n"
     ]
    }
   ],
   "source": [
    "from sklearn.impute import KNNImputer\n",
    "import pandas as pd\n",
    "\n",
    "# Make a copy of the dataframe to preserve original data\n",
    "df_encoded = df_clean.copy()\n",
    "\n",
    "# One-hot encode the categorical variable (property_class)\n",
    "df_encoded = pd.get_dummies(df_encoded, columns=['property_class'])\n",
    "\n",
    "# Initialize KNNImputer (5 neighbors works well for most cases)\n",
    "imputer = KNNImputer(n_neighbors=5)\n",
    "\n",
    "# Apply imputation to living_size\n",
    "df_encoded[['living_size']] = imputer.fit_transform(df_encoded[['living_size']])\n",
    "\n",
    "# Assign back to original dataframe\n",
    "df_clean['living_size'] = df_encoded['living_size']\n",
    "\n",
    "# Verify no missing values remain\n",
    "print(\"Remaining missing values in living_size:\", df_clean['living_size'].isna().sum())"
   ]
  },
  {
   "cell_type": "code",
   "execution_count": 563,
   "id": "3cd02f5c-6d50-43ee-b9ab-9f536f0901c4",
   "metadata": {},
   "outputs": [
    {
     "name": "stdout",
     "output_type": "stream",
     "text": [
      "\n",
      "Value counts after imputation:\n",
      "living_size\n",
      "192.0        5\n",
      "232.0        3\n",
      "250.0        4\n",
      "300.0        3\n",
      "302.0        1\n",
      "            ..\n",
      "185831.0     1\n",
      "293978.0     1\n",
      "1538210.0    1\n",
      "2221336.0    1\n",
      "2521850.0    1\n",
      "Name: count, Length: 1495, dtype: int64\n"
     ]
    }
   ],
   "source": [
    "print(\"\\nValue counts after imputation:\")\n",
    "print(df_clean['living_size'].value_counts().sort_index())"
   ]
  },
  {
   "cell_type": "code",
   "execution_count": 564,
   "id": "21069f87-c5de-43e0-b6da-6aa87d69a52b",
   "metadata": {},
   "outputs": [
    {
     "data": {
      "text/plain": [
       "property_class    0\n",
       "living_size       0\n",
       "bathrooms         0\n",
       "total_rooms       0\n",
       "pool_type         0\n",
       "quality           0\n",
       "sale_price        0\n",
       "state_CA          0\n",
       "state_NY          0\n",
       "state_WY          0\n",
       "dtype: int64"
      ]
     },
     "execution_count": 564,
     "metadata": {},
     "output_type": "execute_result"
    }
   ],
   "source": [
    "df_clean.isnull().sum()"
   ]
  },
  {
   "cell_type": "markdown",
   "id": "21c387b9-2fe3-4e1e-bc90-0bc20cd74a49",
   "metadata": {},
   "source": [
    "##  Encode categorical"
   ]
  },
  {
   "cell_type": "markdown",
   "id": "0b4e7088-cc93-4862-a3ba-210049d4568d",
   "metadata": {},
   "source": [
    "### state col"
   ]
  },
  {
   "cell_type": "code",
   "execution_count": 546,
   "id": "41f3e84d-0750-4951-aea2-147218024c62",
   "metadata": {},
   "outputs": [
    {
     "data": {
      "text/plain": [
       "array(['NY', 'CA', 'WY'], dtype=object)"
      ]
     },
     "execution_count": 546,
     "metadata": {},
     "output_type": "execute_result"
    }
   ],
   "source": [
    "df_clean.state.unique()"
   ]
  },
  {
   "cell_type": "code",
   "execution_count": 547,
   "id": "b3f3773b-bb7c-4926-8da7-42f65e1f2006",
   "metadata": {},
   "outputs": [],
   "source": [
    "#one hot Encode\n",
    "df_clean = pd.get_dummies(df_clean, columns=['state'], prefix='state')"
   ]
  },
  {
   "cell_type": "markdown",
   "id": "798f223c-ccef-48ef-903d-81c10ef063de",
   "metadata": {},
   "source": [
    "### property_class col"
   ]
  },
  {
   "cell_type": "code",
   "execution_count": 548,
   "id": "58857f74-7f0f-4a7b-b263-51c6113eae60",
   "metadata": {},
   "outputs": [
    {
     "data": {
      "text/plain": [
       "array(['Condominium (residential)', 'Apartment',\n",
       "       'Single Family Residence / Townhouse', 'Office Building',\n",
       "       'Hotel, Motel', 'Duplex, Triplex, Quadplex', 'Commercial',\n",
       "       'Parking', 'Amusement-Recreation', 'Industrial Light', 'Vacant',\n",
       "       'Financial Institution', 'Retail', 'Exempt', 'Industrial',\n",
       "       'Service (general public)', 'Hospital (medical complex, clinic)'],\n",
       "      dtype=object)"
      ]
     },
     "execution_count": 548,
     "metadata": {},
     "output_type": "execute_result"
    }
   ],
   "source": [
    "df_clean.property_class.unique()"
   ]
  },
  {
   "cell_type": "code",
   "execution_count": 549,
   "id": "e21d595f-ce7d-46f0-8bbc-fc81fb08e153",
   "metadata": {},
   "outputs": [
    {
     "name": "stdout",
     "output_type": "stream",
     "text": [
      "property_class\n",
      "Residential        3209\n",
      "Commercial          176\n",
      "Industrial           56\n",
      "Special Purpose      30\n",
      "Hospitality          26\n",
      "Service              10\n",
      "Institutional         2\n",
      "Name: count, dtype: int64\n"
     ]
    }
   ],
   "source": [
    "# Define the complete mapping based on your exact values\n",
    "property_mapping = {\n",
    "    # Residential categories\n",
    "    'Condominium (residential)': 'Residential',\n",
    "    'Apartment': 'Residential',\n",
    "    'Single Family Residence / Townhouse': 'Residential',\n",
    "    'Duplex, Triplex, Quadplex': 'Residential',\n",
    "    \n",
    "    # Commercial categories\n",
    "    'Commercial': 'Commercial',\n",
    "    'Office Building': 'Commercial',\n",
    "    'Retail': 'Commercial',\n",
    "    'Financial Institution': 'Commercial',\n",
    "    \n",
    "    # Industrial categories\n",
    "    'Industrial': 'Industrial',\n",
    "    'Industrial Light': 'Industrial',\n",
    "    \n",
    "    # Hospitality\n",
    "    'Hotel, Motel': 'Hospitality',\n",
    "    \n",
    "    # Institutional\n",
    "    'Hospital (medical complex, clinic)': 'Institutional',\n",
    "    \n",
    "    # Service\n",
    "    'Service (general public)': 'Service',\n",
    "    \n",
    "    # Special Purpose\n",
    "    'Parking': 'Special Purpose',\n",
    "    'Amusement-Recreation': 'Special Purpose',\n",
    "    'Vacant': 'Special Purpose',\n",
    "    'Exempt': 'Special Purpose'\n",
    "}\n",
    "\n",
    "\n",
    "df_clean['property_class'] = df_clean['property_class'].map(property_mapping)\n",
    "\n",
    "print(df_clean['property_class'].value_counts())"
   ]
  },
  {
   "cell_type": "code",
   "execution_count": 566,
   "id": "5f519b4e-c757-4531-860e-a90c83c27000",
   "metadata": {},
   "outputs": [],
   "source": [
    "# One-hot encode\n",
    "df_clean = pd.get_dummies(df_clean, columns=['property_class'], prefix='prop', drop_first=True)"
   ]
  },
  {
   "cell_type": "markdown",
   "id": "23e337f7-a3c8-4623-beb7-6f43179db7f3",
   "metadata": {},
   "source": [
    "### pool_type col"
   ]
  },
  {
   "cell_type": "code",
   "execution_count": 568,
   "id": "a3b4803f",
   "metadata": {},
   "outputs": [
    {
     "data": {
      "text/plain": [
       "array(['NO POOL', 'SPA/HOT TUB (ONLY)'], dtype=object)"
      ]
     },
     "execution_count": 568,
     "metadata": {},
     "output_type": "execute_result"
    }
   ],
   "source": [
    "df_clean.pool_type.unique()"
   ]
  },
  {
   "cell_type": "code",
   "execution_count": 569,
   "id": "e71ed320-a07f-4849-859f-186d146da049",
   "metadata": {},
   "outputs": [],
   "source": [
    "df_clean['pool_type'] = df_clean['pool_type'].map({'NO POOL': False, 'SPA/HOT TUB (ONLY)': True})"
   ]
  },
  {
   "cell_type": "markdown",
   "id": "119e091b-cc5d-4903-9a31-5cd0de27d5c9",
   "metadata": {},
   "source": [
    "### quality col"
   ]
  },
  {
   "cell_type": "code",
   "execution_count": 554,
   "id": "cbededda",
   "metadata": {},
   "outputs": [
    {
     "data": {
      "text/plain": [
       "array([nan, 'AVERAGE', 'GOOD', 'FAIR', 'LOW', 'VERY GOOD'], dtype=object)"
      ]
     },
     "execution_count": 554,
     "metadata": {},
     "output_type": "execute_result"
    }
   ],
   "source": [
    "df_clean.quality.unique()"
   ]
  },
  {
   "cell_type": "code",
   "execution_count": 555,
   "id": "96cf1ef2-cb50-42db-9ba2-9cd632abf033",
   "metadata": {},
   "outputs": [],
   "source": [
    "quality_order = ['LOW', 'FAIR', 'AVERAGE', 'GOOD', 'VERY GOOD']\n",
    "mapping = {k: v for v, k in enumerate(quality_order)}\n",
    "\n",
    "# {'LOW': 0, 'FAIR': 1, 'AVERAGE': 2, 'GOOD': 3, 'VERY GOOD': 4}\n",
    "\n",
    "df_clean['quality'] = df_clean['quality'].map(mapping)"
   ]
  },
  {
   "cell_type": "code",
   "execution_count": 556,
   "id": "335adc68-1959-49a4-9771-7f67de5984a8",
   "metadata": {},
   "outputs": [
    {
     "name": "stdout",
     "output_type": "stream",
     "text": [
      "quality\n",
      "0.0    224912.0\n",
      "1.0    241045.0\n",
      "2.0    286901.0\n",
      "3.0    463938.0\n",
      "4.0    521250.0\n",
      "Name: sale_price, dtype: float64\n"
     ]
    }
   ],
   "source": [
    "median_prices = df_clean.groupby('quality')['sale_price'].median().sort_index()\n",
    "print(median_prices)"
   ]
  },
  {
   "cell_type": "code",
   "execution_count": 557,
   "id": "ac8ac4a3-5244-438b-870d-26f8e38c35ef",
   "metadata": {},
   "outputs": [],
   "source": [
    "price_thresholds = {\n",
    "    0: (-np.inf, 224912),         # LOW\n",
    "    1: (224912, 241045),          # FAIR\n",
    "    2: (241045, 286901),         # AVERAGE\n",
    "    3: (286901, 463938),         # GOOD\n",
    "    4: (463938, np.inf)          # VERY GOOD\n",
    "}\n",
    "\n",
    "def assign_quality(row):\n",
    "    if pd.isna(row['quality']):\n",
    "        for q, (low, high) in price_thresholds.items():\n",
    "            if low <= row['sale_price'] < high:\n",
    "                return q\n",
    "    return row['quality']"
   ]
  },
  {
   "cell_type": "code",
   "execution_count": 558,
   "id": "10ac5a69-2f8a-4949-8805-fcbaf4037156",
   "metadata": {},
   "outputs": [],
   "source": [
    "\n",
    "df_clean['quality'] = df_clean.apply(assign_quality, axis=1)"
   ]
  },
  {
   "cell_type": "code",
   "execution_count": 570,
   "id": "2617d88c-024b-471e-baff-9642d6bded3e",
   "metadata": {},
   "outputs": [
    {
     "name": "stdout",
     "output_type": "stream",
     "text": [
      "<class 'pandas.core.frame.DataFrame'>\n",
      "Index: 3509 entries, 0 to 4446\n",
      "Data columns (total 15 columns):\n",
      " #   Column                Non-Null Count  Dtype  \n",
      "---  ------                --------------  -----  \n",
      " 0   living_size           3509 non-null   float64\n",
      " 1   bathrooms             3509 non-null   float64\n",
      " 2   total_rooms           3509 non-null   int64  \n",
      " 3   pool_type             3509 non-null   bool   \n",
      " 4   quality               3509 non-null   float64\n",
      " 5   sale_price            3509 non-null   float64\n",
      " 6   state_CA              3509 non-null   bool   \n",
      " 7   state_NY              3509 non-null   bool   \n",
      " 8   state_WY              3509 non-null   bool   \n",
      " 9   prop_Hospitality      3509 non-null   bool   \n",
      " 10  prop_Industrial       3509 non-null   bool   \n",
      " 11  prop_Institutional    3509 non-null   bool   \n",
      " 12  prop_Residential      3509 non-null   bool   \n",
      " 13  prop_Service          3509 non-null   bool   \n",
      " 14  prop_Special Purpose  3509 non-null   bool   \n",
      "dtypes: bool(10), float64(4), int64(1)\n",
      "memory usage: 198.8 KB\n"
     ]
    }
   ],
   "source": [
    "df_clean. info()"
   ]
  },
  {
   "cell_type": "code",
   "execution_count": 571,
   "id": "8c5e2ef2-07ba-4d9d-8f3a-a5f2785a1040",
   "metadata": {},
   "outputs": [
    {
     "data": {
      "text/html": [
       "<div>\n",
       "<style scoped>\n",
       "    .dataframe tbody tr th:only-of-type {\n",
       "        vertical-align: middle;\n",
       "    }\n",
       "\n",
       "    .dataframe tbody tr th {\n",
       "        vertical-align: top;\n",
       "    }\n",
       "\n",
       "    .dataframe thead th {\n",
       "        text-align: right;\n",
       "    }\n",
       "</style>\n",
       "<table border=\"1\" class=\"dataframe\">\n",
       "  <thead>\n",
       "    <tr style=\"text-align: right;\">\n",
       "      <th></th>\n",
       "      <th>living_size</th>\n",
       "      <th>bathrooms</th>\n",
       "      <th>total_rooms</th>\n",
       "      <th>pool_type</th>\n",
       "      <th>quality</th>\n",
       "      <th>sale_price</th>\n",
       "      <th>state_CA</th>\n",
       "      <th>state_NY</th>\n",
       "      <th>state_WY</th>\n",
       "      <th>prop_Hospitality</th>\n",
       "      <th>prop_Industrial</th>\n",
       "      <th>prop_Institutional</th>\n",
       "      <th>prop_Residential</th>\n",
       "      <th>prop_Service</th>\n",
       "      <th>prop_Special Purpose</th>\n",
       "    </tr>\n",
       "  </thead>\n",
       "  <tbody>\n",
       "    <tr>\n",
       "      <th>0</th>\n",
       "      <td>936.0</td>\n",
       "      <td>2.0</td>\n",
       "      <td>4</td>\n",
       "      <td>False</td>\n",
       "      <td>4.0</td>\n",
       "      <td>950000.0</td>\n",
       "      <td>False</td>\n",
       "      <td>True</td>\n",
       "      <td>False</td>\n",
       "      <td>False</td>\n",
       "      <td>False</td>\n",
       "      <td>False</td>\n",
       "      <td>True</td>\n",
       "      <td>False</td>\n",
       "      <td>False</td>\n",
       "    </tr>\n",
       "    <tr>\n",
       "      <th>2</th>\n",
       "      <td>6765.0</td>\n",
       "      <td>2.0</td>\n",
       "      <td>4</td>\n",
       "      <td>False</td>\n",
       "      <td>4.0</td>\n",
       "      <td>2600000.0</td>\n",
       "      <td>False</td>\n",
       "      <td>True</td>\n",
       "      <td>False</td>\n",
       "      <td>False</td>\n",
       "      <td>False</td>\n",
       "      <td>False</td>\n",
       "      <td>True</td>\n",
       "      <td>False</td>\n",
       "      <td>False</td>\n",
       "    </tr>\n",
       "    <tr>\n",
       "      <th>5</th>\n",
       "      <td>11280.0</td>\n",
       "      <td>2.0</td>\n",
       "      <td>4</td>\n",
       "      <td>False</td>\n",
       "      <td>4.0</td>\n",
       "      <td>2950000.0</td>\n",
       "      <td>False</td>\n",
       "      <td>True</td>\n",
       "      <td>False</td>\n",
       "      <td>False</td>\n",
       "      <td>False</td>\n",
       "      <td>False</td>\n",
       "      <td>True</td>\n",
       "      <td>False</td>\n",
       "      <td>False</td>\n",
       "    </tr>\n",
       "    <tr>\n",
       "      <th>6</th>\n",
       "      <td>10163.0</td>\n",
       "      <td>2.0</td>\n",
       "      <td>4</td>\n",
       "      <td>False</td>\n",
       "      <td>4.0</td>\n",
       "      <td>14000000.0</td>\n",
       "      <td>False</td>\n",
       "      <td>True</td>\n",
       "      <td>False</td>\n",
       "      <td>False</td>\n",
       "      <td>False</td>\n",
       "      <td>False</td>\n",
       "      <td>True</td>\n",
       "      <td>False</td>\n",
       "      <td>False</td>\n",
       "    </tr>\n",
       "    <tr>\n",
       "      <th>7</th>\n",
       "      <td>2607.0</td>\n",
       "      <td>2.0</td>\n",
       "      <td>4</td>\n",
       "      <td>False</td>\n",
       "      <td>4.0</td>\n",
       "      <td>5300000.0</td>\n",
       "      <td>False</td>\n",
       "      <td>True</td>\n",
       "      <td>False</td>\n",
       "      <td>False</td>\n",
       "      <td>False</td>\n",
       "      <td>False</td>\n",
       "      <td>True</td>\n",
       "      <td>False</td>\n",
       "      <td>False</td>\n",
       "    </tr>\n",
       "    <tr>\n",
       "      <th>...</th>\n",
       "      <td>...</td>\n",
       "      <td>...</td>\n",
       "      <td>...</td>\n",
       "      <td>...</td>\n",
       "      <td>...</td>\n",
       "      <td>...</td>\n",
       "      <td>...</td>\n",
       "      <td>...</td>\n",
       "      <td>...</td>\n",
       "      <td>...</td>\n",
       "      <td>...</td>\n",
       "      <td>...</td>\n",
       "      <td>...</td>\n",
       "      <td>...</td>\n",
       "      <td>...</td>\n",
       "    </tr>\n",
       "    <tr>\n",
       "      <th>4442</th>\n",
       "      <td>1747.0</td>\n",
       "      <td>3.0</td>\n",
       "      <td>4</td>\n",
       "      <td>False</td>\n",
       "      <td>2.0</td>\n",
       "      <td>256075.0</td>\n",
       "      <td>False</td>\n",
       "      <td>False</td>\n",
       "      <td>True</td>\n",
       "      <td>False</td>\n",
       "      <td>False</td>\n",
       "      <td>False</td>\n",
       "      <td>True</td>\n",
       "      <td>False</td>\n",
       "      <td>False</td>\n",
       "    </tr>\n",
       "    <tr>\n",
       "      <th>4443</th>\n",
       "      <td>1800.0</td>\n",
       "      <td>3.0</td>\n",
       "      <td>4</td>\n",
       "      <td>False</td>\n",
       "      <td>1.0</td>\n",
       "      <td>554625.0</td>\n",
       "      <td>False</td>\n",
       "      <td>False</td>\n",
       "      <td>True</td>\n",
       "      <td>False</td>\n",
       "      <td>False</td>\n",
       "      <td>False</td>\n",
       "      <td>True</td>\n",
       "      <td>False</td>\n",
       "      <td>False</td>\n",
       "    </tr>\n",
       "    <tr>\n",
       "      <th>4444</th>\n",
       "      <td>1560.0</td>\n",
       "      <td>3.0</td>\n",
       "      <td>3</td>\n",
       "      <td>False</td>\n",
       "      <td>1.0</td>\n",
       "      <td>220669.0</td>\n",
       "      <td>False</td>\n",
       "      <td>False</td>\n",
       "      <td>True</td>\n",
       "      <td>False</td>\n",
       "      <td>False</td>\n",
       "      <td>False</td>\n",
       "      <td>True</td>\n",
       "      <td>False</td>\n",
       "      <td>False</td>\n",
       "    </tr>\n",
       "    <tr>\n",
       "      <th>4445</th>\n",
       "      <td>1246.0</td>\n",
       "      <td>3.0</td>\n",
       "      <td>4</td>\n",
       "      <td>False</td>\n",
       "      <td>2.0</td>\n",
       "      <td>285000.0</td>\n",
       "      <td>False</td>\n",
       "      <td>False</td>\n",
       "      <td>True</td>\n",
       "      <td>False</td>\n",
       "      <td>False</td>\n",
       "      <td>False</td>\n",
       "      <td>True</td>\n",
       "      <td>False</td>\n",
       "      <td>False</td>\n",
       "    </tr>\n",
       "    <tr>\n",
       "      <th>4446</th>\n",
       "      <td>1246.0</td>\n",
       "      <td>3.0</td>\n",
       "      <td>4</td>\n",
       "      <td>False</td>\n",
       "      <td>2.0</td>\n",
       "      <td>235443.0</td>\n",
       "      <td>False</td>\n",
       "      <td>False</td>\n",
       "      <td>True</td>\n",
       "      <td>False</td>\n",
       "      <td>False</td>\n",
       "      <td>False</td>\n",
       "      <td>True</td>\n",
       "      <td>False</td>\n",
       "      <td>False</td>\n",
       "    </tr>\n",
       "  </tbody>\n",
       "</table>\n",
       "<p>3509 rows × 15 columns</p>\n",
       "</div>"
      ],
      "text/plain": [
       "      living_size  bathrooms  total_rooms  pool_type  quality  sale_price  \\\n",
       "0           936.0        2.0            4      False      4.0    950000.0   \n",
       "2          6765.0        2.0            4      False      4.0   2600000.0   \n",
       "5         11280.0        2.0            4      False      4.0   2950000.0   \n",
       "6         10163.0        2.0            4      False      4.0  14000000.0   \n",
       "7          2607.0        2.0            4      False      4.0   5300000.0   \n",
       "...           ...        ...          ...        ...      ...         ...   \n",
       "4442       1747.0        3.0            4      False      2.0    256075.0   \n",
       "4443       1800.0        3.0            4      False      1.0    554625.0   \n",
       "4444       1560.0        3.0            3      False      1.0    220669.0   \n",
       "4445       1246.0        3.0            4      False      2.0    285000.0   \n",
       "4446       1246.0        3.0            4      False      2.0    235443.0   \n",
       "\n",
       "      state_CA  state_NY  state_WY  prop_Hospitality  prop_Industrial  \\\n",
       "0        False      True     False             False            False   \n",
       "2        False      True     False             False            False   \n",
       "5        False      True     False             False            False   \n",
       "6        False      True     False             False            False   \n",
       "7        False      True     False             False            False   \n",
       "...        ...       ...       ...               ...              ...   \n",
       "4442     False     False      True             False            False   \n",
       "4443     False     False      True             False            False   \n",
       "4444     False     False      True             False            False   \n",
       "4445     False     False      True             False            False   \n",
       "4446     False     False      True             False            False   \n",
       "\n",
       "      prop_Institutional  prop_Residential  prop_Service  prop_Special Purpose  \n",
       "0                  False              True         False                 False  \n",
       "2                  False              True         False                 False  \n",
       "5                  False              True         False                 False  \n",
       "6                  False              True         False                 False  \n",
       "7                  False              True         False                 False  \n",
       "...                  ...               ...           ...                   ...  \n",
       "4442               False              True         False                 False  \n",
       "4443               False              True         False                 False  \n",
       "4444               False              True         False                 False  \n",
       "4445               False              True         False                 False  \n",
       "4446               False              True         False                 False  \n",
       "\n",
       "[3509 rows x 15 columns]"
      ]
     },
     "execution_count": 571,
     "metadata": {},
     "output_type": "execute_result"
    }
   ],
   "source": [
    "df_clean"
   ]
  },
  {
   "cell_type": "code",
   "execution_count": 572,
   "id": "31fa1f38-8786-4cd7-bd56-0c88bb066d63",
   "metadata": {},
   "outputs": [
    {
     "data": {
      "image/png": "[encoded data removed]",
      "text/plain": [
       "<Figure size 1000x800 with 2 Axes>"
      ]
     },
     "metadata": {},
     "output_type": "display_data"
    }
   ],
   "source": [
    "\n",
    "plt.figure(figsize=(10, 8))\n",
    "sns.heatmap(df_clean.corr(numeric_only=True), annot=True, cmap='coolwarm', fmt='.2f')\n",
    "plt.title(\"Correlation Matrix\")\n",
    "plt.show()\n"
   ]
  },
  {
   "cell_type": "code",
   "execution_count": 582,
   "id": "55e7f8fa-81c8-4433-b0f6-40ee848774f6",
   "metadata": {},
   "outputs": [
    {
     "data": {
      "text/plain": [
       "<Axes: >"
      ]
     },
     "execution_count": 582,
     "metadata": {},
     "output_type": "execute_result"
    },
    {
     "data": {
      "image/png": "[encoded data removed]",
      "text/plain": [
       "<Figure size 640x480 with 1 Axes>"
      ]
     },
     "metadata": {},
     "output_type": "display_data"
    }
   ],
   "source": [
    "df_clean.boxplot()"
   ]
  },
  {
   "cell_type": "markdown",
   "id": "13355228-c55f-4f98-8efc-c035665a627f",
   "metadata": {},
   "source": [
    "##  Removing Outliers from the Price Column"
   ]
  },
  {
   "cell_type": "markdown",
   "id": "b2e7e274-f4e9-4022-8e19-68e0a007ff62",
   "metadata": {},
   "source": [
    "### using IQR Method\n",
    "if data is belw LL and above UL thein it is outlier"
   ]
  },
  {
   "cell_type": "code",
   "execution_count": 583,
   "id": "17aa261c-82d2-497f-8bb6-6fef1d243fda",
   "metadata": {},
   "outputs": [
    {
     "data": {
      "text/plain": [
       "<Axes: >"
      ]
     },
     "execution_count": 583,
     "metadata": {},
     "output_type": "execute_result"
    },
    {
     "data": {
      "image/png": "[encoded data removed]",
      "text/plain": [
       "<Figure size 640x480 with 1 Axes>"
      ]
     },
     "metadata": {},
     "output_type": "display_data"
    }
   ],
   "source": [
    "df_clean.boxplot('sale_price')"
   ]
  },
  {
   "cell_type": "code",
   "execution_count": 586,
   "id": "9a31de78-fc63-496b-a83a-0bcda228ee36",
   "metadata": {},
   "outputs": [],
   "source": [
    "Q1 = df_clean['sale_price'].quantile(0.25)\n",
    "Q3 = df_clean['sale_price'].quantile(0.75)\n",
    "IQR = Q3 - Q1\n",
    "\n",
    "ll = Q1 - 1.5 * IQR\n",
    "ul = Q3 + 1.5 * IQR\n",
    "\n",
    "# Filter df_clean itself\n",
    "df_clean = df_clean[(df_clean['sale_price'] >= ll) & (df_clean['sale_price'] <= ul)]\n"
   ]
  },
  {
   "cell_type": "code",
   "execution_count": 587,
   "id": "32489e28-7821-4ead-94fd-aa07c3261234",
   "metadata": {},
   "outputs": [
    {
     "data": {
      "text/plain": [
       "<Axes: >"
      ]
     },
     "execution_count": 587,
     "metadata": {},
     "output_type": "execute_result"
    },
    {
     "data": {
      "image/png": "[encoded data removed]",
      "text/plain": [
       "<Figure size 640x480 with 1 Axes>"
      ]
     },
     "metadata": {},
     "output_type": "display_data"
    }
   ],
   "source": [
    "df_clean.boxplot('sale_price')"
   ]
  },
  {
   "cell_type": "markdown",
   "id": "8729db66-c858-400c-910b-0181f14e3c21",
   "metadata": {},
   "source": [
    "# ML"
   ]
  },
  {
   "cell_type": "code",
   "execution_count": 602,
   "id": "e93d7c0c-b981-4773-b3fe-cc921aa2fe03",
   "metadata": {},
   "outputs": [],
   "source": [
    "X = df_clean.drop('sale_price', axis=1)\n",
    "y = df_clean['sale_price']"
   ]
  },
  {
   "cell_type": "code",
   "execution_count": 603,
   "id": "01b5621a-9b6c-4d21-bf77-63b3df4d45a6",
   "metadata": {},
   "outputs": [],
   "source": [
    "# Split data\n",
    "# 80% training, 20% testing\n",
    "X_train, X_test, y_train, y_test = train_test_split(X, y, test_size=0.2, random_state=42)"
   ]
  },
  {
   "cell_type": "code",
   "execution_count": 604,
   "id": "1a4fae3e-f3b7-4977-baeb-ecab1f4d56a1",
   "metadata": {},
   "outputs": [],
   "source": [
    "scaler = StandardScaler()\n",
    "X_train_scaled = scaler.fit_transform(X_train)\n",
    "X_test_scaled = scaler.transform(X_test)"
   ]
  },
  {
   "cell_type": "markdown",
   "id": "a28002f3-2821-4dcc-8803-c6dcf468b3ca",
   "metadata": {},
   "source": [
    "## LinearRegression"
   ]
  },
  {
   "cell_type": "code",
   "execution_count": 626,
   "id": "b2e29ce6-8ce6-40a1-8ea3-647a8ba92a5a",
   "metadata": {},
   "outputs": [
    {
     "data": {
      "text/html": [
       "<style>#sk-container-id-5 {\n",
       "  /* Definition of color scheme common for light and dark mode */\n",
       "  --sklearn-color-text: #000;\n",
       "  --sklearn-color-text-muted: #666;\n",
       "  --sklearn-color-line: gray;\n",
       "  /* Definition of color scheme for unfitted estimators */\n",
       "  --sklearn-color-unfitted-level-0: #fff5e6;\n",
       "  --sklearn-color-unfitted-level-1: #f6e4d2;\n",
       "  --sklearn-color-unfitted-level-2: #ffe0b3;\n",
       "  --sklearn-color-unfitted-level-3: chocolate;\n",
       "  /* Definition of color scheme for fitted estimators */\n",
       "  --sklearn-color-fitted-level-0: #f0f8ff;\n",
       "  --sklearn-color-fitted-level-1: #d4ebff;\n",
       "  --sklearn-color-fitted-level-2: #b3dbfd;\n",
       "  --sklearn-color-fitted-level-3: cornflowerblue;\n",
       "\n",
       "  /* Specific color for light theme */\n",
       "  --sklearn-color-text-on-default-background: var(--sg-text-color, var(--theme-code-foreground, var(--jp-content-font-color1, black)));\n",
       "  --sklearn-color-background: var(--sg-background-color, var(--theme-background, var(--jp-layout-color0, white)));\n",
       "  --sklearn-color-border-box: var(--sg-text-color, var(--theme-code-foreground, var(--jp-content-font-color1, black)));\n",
       "  --sklearn-color-icon: #696969;\n",
       "\n",
       "  @media (prefers-color-scheme: dark) {\n",
       "    /* Redefinition of color scheme for dark theme */\n",
       "    --sklearn-color-text-on-default-background: var(--sg-text-color, var(--theme-code-foreground, var(--jp-content-font-color1, white)));\n",
       "    --sklearn-color-background: var(--sg-background-color, var(--theme-background, var(--jp-layout-color0, #111)));\n",
       "    --sklearn-color-border-box: var(--sg-text-color, var(--theme-code-foreground, var(--jp-content-font-color1, white)));\n",
       "    --sklearn-color-icon: #878787;\n",
       "  }\n",
       "}\n",
       "\n",
       "#sk-container-id-5 {\n",
       "  color: var(--sklearn-color-text);\n",
       "}\n",
       "\n",
       "#sk-container-id-5 pre {\n",
       "  padding: 0;\n",
       "}\n",
       "\n",
       "#sk-container-id-5 input.sk-hidden--visually {\n",
       "  border: 0;\n",
       "  clip: rect(1px 1px 1px 1px);\n",
       "  clip: rect(1px, 1px, 1px, 1px);\n",
       "  height: 1px;\n",
       "  margin: -1px;\n",
       "  overflow: hidden;\n",
       "  padding: 0;\n",
       "  position: absolute;\n",
       "  width: 1px;\n",
       "}\n",
       "\n",
       "#sk-container-id-5 div.sk-dashed-wrapped {\n",
       "  border: 1px dashed var(--sklearn-color-line);\n",
       "  margin: 0 0.4em 0.5em 0.4em;\n",
       "  box-sizing: border-box;\n",
       "  padding-bottom: 0.4em;\n",
       "  background-color: var(--sklearn-color-background);\n",
       "}\n",
       "\n",
       "#sk-container-id-5 div.sk-container {\n",
       "  /* jupyter's `normalize.less` sets `[hidden] { display: none; }`\n",
       "     but bootstrap.min.css set `[hidden] { display: none !important; }`\n",
       "     so we also need the `!important` here to be able to override the\n",
       "     default hidden behavior on the sphinx rendered scikit-learn.org.\n",
       "     See: https://github.com/scikit-learn/scikit-learn/issues/21755 */\n",
       "  display: inline-block !important;\n",
       "  position: relative;\n",
       "}\n",
       "\n",
       "#sk-container-id-5 div.sk-text-repr-fallback {\n",
       "  display: none;\n",
       "}\n",
       "\n",
       "div.sk-parallel-item,\n",
       "div.sk-serial,\n",
       "div.sk-item {\n",
       "  /* draw centered vertical line to link estimators */\n",
       "  background-image: linear-gradient(var(--sklearn-color-text-on-default-background), var(--sklearn-color-text-on-default-background));\n",
       "  background-size: 2px 100%;\n",
       "  background-repeat: no-repeat;\n",
       "  background-position: center center;\n",
       "}\n",
       "\n",
       "/* Parallel-specific style estimator block */\n",
       "\n",
       "#sk-container-id-5 div.sk-parallel-item::after {\n",
       "  content: \"\";\n",
       "  width: 100%;\n",
       "  border-bottom: 2px solid var(--sklearn-color-text-on-default-background);\n",
       "  flex-grow: 1;\n",
       "}\n",
       "\n",
       "#sk-container-id-5 div.sk-parallel {\n",
       "  display: flex;\n",
       "  align-items: stretch;\n",
       "  justify-content: center;\n",
       "  background-color: var(--sklearn-color-background);\n",
       "  position: relative;\n",
       "}\n",
       "\n",
       "#sk-container-id-5 div.sk-parallel-item {\n",
       "  display: flex;\n",
       "  flex-direction: column;\n",
       "}\n",
       "\n",
       "#sk-container-id-5 div.sk-parallel-item:first-child::after {\n",
       "  align-self: flex-end;\n",
       "  width: 50%;\n",
       "}\n",
       "\n",
       "#sk-container-id-5 div.sk-parallel-item:last-child::after {\n",
       "  align-self: flex-start;\n",
       "  width: 50%;\n",
       "}\n",
       "\n",
       "#sk-container-id-5 div.sk-parallel-item:only-child::after {\n",
       "  width: 0;\n",
       "}\n",
       "\n",
       "/* Serial-specific style estimator block */\n",
       "\n",
       "#sk-container-id-5 div.sk-serial {\n",
       "  display: flex;\n",
       "  flex-direction: column;\n",
       "  align-items: center;\n",
       "  background-color: var(--sklearn-color-background);\n",
       "  padding-right: 1em;\n",
       "  padding-left: 1em;\n",
       "}\n",
       "\n",
       "\n",
       "/* Toggleable style: style used for estimator/Pipeline/ColumnTransformer box that is\n",
       "clickable and can be expanded/collapsed.\n",
       "- Pipeline and ColumnTransformer use this feature and define the default style\n",
       "- Estimators will overwrite some part of the style using the `sk-estimator` class\n",
       "*/\n",
       "\n",
       "/* Pipeline and ColumnTransformer style (default) */\n",
       "\n",
       "#sk-container-id-5 div.sk-toggleable {\n",
       "  /* Default theme specific background. It is overwritten whether we have a\n",
       "  specific estimator or a Pipeline/ColumnTransformer */\n",
       "  background-color: var(--sklearn-color-background);\n",
       "}\n",
       "\n",
       "/* Toggleable label */\n",
       "#sk-container-id-5 label.sk-toggleable__label {\n",
       "  cursor: pointer;\n",
       "  display: flex;\n",
       "  width: 100%;\n",
       "  margin-bottom: 0;\n",
       "  padding: 0.5em;\n",
       "  box-sizing: border-box;\n",
       "  text-align: center;\n",
       "  align-items: start;\n",
       "  justify-content: space-between;\n",
       "  gap: 0.5em;\n",
       "}\n",
       "\n",
       "#sk-container-id-5 label.sk-toggleable__label .caption {\n",
       "  font-size: 0.6rem;\n",
       "  font-weight: lighter;\n",
       "  color: var(--sklearn-color-text-muted);\n",
       "}\n",
       "\n",
       "#sk-container-id-5 label.sk-toggleable__label-arrow:before {\n",
       "  /* Arrow on the left of the label */\n",
       "  content: \"▸\";\n",
       "  float: left;\n",
       "  margin-right: 0.25em;\n",
       "  color: var(--sklearn-color-icon);\n",
       "}\n",
       "\n",
       "#sk-container-id-5 label.sk-toggleable__label-arrow:hover:before {\n",
       "  color: var(--sklearn-color-text);\n",
       "}\n",
       "\n",
       "/* Toggleable content - dropdown */\n",
       "\n",
       "#sk-container-id-5 div.sk-toggleable__content {\n",
       "  display: none;\n",
       "  text-align: left;\n",
       "  /* unfitted */\n",
       "  background-color: var(--sklearn-color-unfitted-level-0);\n",
       "}\n",
       "\n",
       "#sk-container-id-5 div.sk-toggleable__content.fitted {\n",
       "  /* fitted */\n",
       "  background-color: var(--sklearn-color-fitted-level-0);\n",
       "}\n",
       "\n",
       "#sk-container-id-5 div.sk-toggleable__content pre {\n",
       "  margin: 0.2em;\n",
       "  border-radius: 0.25em;\n",
       "  color: var(--sklearn-color-text);\n",
       "  /* unfitted */\n",
       "  background-color: var(--sklearn-color-unfitted-level-0);\n",
       "}\n",
       "\n",
       "#sk-container-id-5 div.sk-toggleable__content.fitted pre {\n",
       "  /* unfitted */\n",
       "  background-color: var(--sklearn-color-fitted-level-0);\n",
       "}\n",
       "\n",
       "#sk-container-id-5 input.sk-toggleable__control:checked~div.sk-toggleable__content {\n",
       "  /* Expand drop-down */\n",
       "  display: block;\n",
       "  width: 100%;\n",
       "  overflow: visible;\n",
       "}\n",
       "\n",
       "#sk-container-id-5 input.sk-toggleable__control:checked~label.sk-toggleable__label-arrow:before {\n",
       "  content: \"▾\";\n",
       "}\n",
       "\n",
       "/* Pipeline/ColumnTransformer-specific style */\n",
       "\n",
       "#sk-container-id-5 div.sk-label input.sk-toggleable__control:checked~label.sk-toggleable__label {\n",
       "  color: var(--sklearn-color-text);\n",
       "  background-color: var(--sklearn-color-unfitted-level-2);\n",
       "}\n",
       "\n",
       "#sk-container-id-5 div.sk-label.fitted input.sk-toggleable__control:checked~label.sk-toggleable__label {\n",
       "  background-color: var(--sklearn-color-fitted-level-2);\n",
       "}\n",
       "\n",
       "/* Estimator-specific style */\n",
       "\n",
       "/* Colorize estimator box */\n",
       "#sk-container-id-5 div.sk-estimator input.sk-toggleable__control:checked~label.sk-toggleable__label {\n",
       "  /* unfitted */\n",
       "  background-color: var(--sklearn-color-unfitted-level-2);\n",
       "}\n",
       "\n",
       "#sk-container-id-5 div.sk-estimator.fitted input.sk-toggleable__control:checked~label.sk-toggleable__label {\n",
       "  /* fitted */\n",
       "  background-color: var(--sklearn-color-fitted-level-2);\n",
       "}\n",
       "\n",
       "#sk-container-id-5 div.sk-label label.sk-toggleable__label,\n",
       "#sk-container-id-5 div.sk-label label {\n",
       "  /* The background is the default theme color */\n",
       "  color: var(--sklearn-color-text-on-default-background);\n",
       "}\n",
       "\n",
       "/* On hover, darken the color of the background */\n",
       "#sk-container-id-5 div.sk-label:hover label.sk-toggleable__label {\n",
       "  color: var(--sklearn-color-text);\n",
       "  background-color: var(--sklearn-color-unfitted-level-2);\n",
       "}\n",
       "\n",
       "/* Label box, darken color on hover, fitted */\n",
       "#sk-container-id-5 div.sk-label.fitted:hover label.sk-toggleable__label.fitted {\n",
       "  color: var(--sklearn-color-text);\n",
       "  background-color: var(--sklearn-color-fitted-level-2);\n",
       "}\n",
       "\n",
       "/* Estimator label */\n",
       "\n",
       "#sk-container-id-5 div.sk-label label {\n",
       "  font-family: monospace;\n",
       "  font-weight: bold;\n",
       "  display: inline-block;\n",
       "  line-height: 1.2em;\n",
       "}\n",
       "\n",
       "#sk-container-id-5 div.sk-label-container {\n",
       "  text-align: center;\n",
       "}\n",
       "\n",
       "/* Estimator-specific */\n",
       "#sk-container-id-5 div.sk-estimator {\n",
       "  font-family: monospace;\n",
       "  border: 1px dotted var(--sklearn-color-border-box);\n",
       "  border-radius: 0.25em;\n",
       "  box-sizing: border-box;\n",
       "  margin-bottom: 0.5em;\n",
       "  /* unfitted */\n",
       "  background-color: var(--sklearn-color-unfitted-level-0);\n",
       "}\n",
       "\n",
       "#sk-container-id-5 div.sk-estimator.fitted {\n",
       "  /* fitted */\n",
       "  background-color: var(--sklearn-color-fitted-level-0);\n",
       "}\n",
       "\n",
       "/* on hover */\n",
       "#sk-container-id-5 div.sk-estimator:hover {\n",
       "  /* unfitted */\n",
       "  background-color: var(--sklearn-color-unfitted-level-2);\n",
       "}\n",
       "\n",
       "#sk-container-id-5 div.sk-estimator.fitted:hover {\n",
       "  /* fitted */\n",
       "  background-color: var(--sklearn-color-fitted-level-2);\n",
       "}\n",
       "\n",
       "/* Specification for estimator info (e.g. \"i\" and \"?\") */\n",
       "\n",
       "/* Common style for \"i\" and \"?\" */\n",
       "\n",
       ".sk-estimator-doc-link,\n",
       "a:link.sk-estimator-doc-link,\n",
       "a:visited.sk-estimator-doc-link {\n",
       "  float: right;\n",
       "  font-size: smaller;\n",
       "  line-height: 1em;\n",
       "  font-family: monospace;\n",
       "  background-color: var(--sklearn-color-background);\n",
       "  border-radius: 1em;\n",
       "  height: 1em;\n",
       "  width: 1em;\n",
       "  text-decoration: none !important;\n",
       "  margin-left: 0.5em;\n",
       "  text-align: center;\n",
       "  /* unfitted */\n",
       "  border: var(--sklearn-color-unfitted-level-1) 1pt solid;\n",
       "  color: var(--sklearn-color-unfitted-level-1);\n",
       "}\n",
       "\n",
       ".sk-estimator-doc-link.fitted,\n",
       "a:link.sk-estimator-doc-link.fitted,\n",
       "a:visited.sk-estimator-doc-link.fitted {\n",
       "  /* fitted */\n",
       "  border: var(--sklearn-color-fitted-level-1) 1pt solid;\n",
       "  color: var(--sklearn-color-fitted-level-1);\n",
       "}\n",
       "\n",
       "/* On hover */\n",
       "div.sk-estimator:hover .sk-estimator-doc-link:hover,\n",
       ".sk-estimator-doc-link:hover,\n",
       "div.sk-label-container:hover .sk-estimator-doc-link:hover,\n",
       ".sk-estimator-doc-link:hover {\n",
       "  /* unfitted */\n",
       "  background-color: var(--sklearn-color-unfitted-level-3);\n",
       "  color: var(--sklearn-color-background);\n",
       "  text-decoration: none;\n",
       "}\n",
       "\n",
       "div.sk-estimator.fitted:hover .sk-estimator-doc-link.fitted:hover,\n",
       ".sk-estimator-doc-link.fitted:hover,\n",
       "div.sk-label-container:hover .sk-estimator-doc-link.fitted:hover,\n",
       ".sk-estimator-doc-link.fitted:hover {\n",
       "  /* fitted */\n",
       "  background-color: var(--sklearn-color-fitted-level-3);\n",
       "  color: var(--sklearn-color-background);\n",
       "  text-decoration: none;\n",
       "}\n",
       "\n",
       "/* Span, style for the box shown on hovering the info icon */\n",
       ".sk-estimator-doc-link span {\n",
       "  display: none;\n",
       "  z-index: 9999;\n",
       "  position: relative;\n",
       "  font-weight: normal;\n",
       "  right: .2ex;\n",
       "  padding: .5ex;\n",
       "  margin: .5ex;\n",
       "  width: min-content;\n",
       "  min-width: 20ex;\n",
       "  max-width: 50ex;\n",
       "  color: var(--sklearn-color-text);\n",
       "  box-shadow: 2pt 2pt 4pt #999;\n",
       "  /* unfitted */\n",
       "  background: var(--sklearn-color-unfitted-level-0);\n",
       "  border: .5pt solid var(--sklearn-color-unfitted-level-3);\n",
       "}\n",
       "\n",
       ".sk-estimator-doc-link.fitted span {\n",
       "  /* fitted */\n",
       "  background: var(--sklearn-color-fitted-level-0);\n",
       "  border: var(--sklearn-color-fitted-level-3);\n",
       "}\n",
       "\n",
       ".sk-estimator-doc-link:hover span {\n",
       "  display: block;\n",
       "}\n",
       "\n",
       "/* \"?\"-specific style due to the `<a>` HTML tag */\n",
       "\n",
       "#sk-container-id-5 a.estimator_doc_link {\n",
       "  float: right;\n",
       "  font-size: 1rem;\n",
       "  line-height: 1em;\n",
       "  font-family: monospace;\n",
       "  background-color: var(--sklearn-color-background);\n",
       "  border-radius: 1rem;\n",
       "  height: 1rem;\n",
       "  width: 1rem;\n",
       "  text-decoration: none;\n",
       "  /* unfitted */\n",
       "  color: var(--sklearn-color-unfitted-level-1);\n",
       "  border: var(--sklearn-color-unfitted-level-1) 1pt solid;\n",
       "}\n",
       "\n",
       "#sk-container-id-5 a.estimator_doc_link.fitted {\n",
       "  /* fitted */\n",
       "  border: var(--sklearn-color-fitted-level-1) 1pt solid;\n",
       "  color: var(--sklearn-color-fitted-level-1);\n",
       "}\n",
       "\n",
       "/* On hover */\n",
       "#sk-container-id-5 a.estimator_doc_link:hover {\n",
       "  /* unfitted */\n",
       "  background-color: var(--sklearn-color-unfitted-level-3);\n",
       "  color: var(--sklearn-color-background);\n",
       "  text-decoration: none;\n",
       "}\n",
       "\n",
       "#sk-container-id-5 a.estimator_doc_link.fitted:hover {\n",
       "  /* fitted */\n",
       "  background-color: var(--sklearn-color-fitted-level-3);\n",
       "}\n",
       "\n",
       ".estimator-table summary {\n",
       "    padding: .5rem;\n",
       "    font-family: monospace;\n",
       "    cursor: pointer;\n",
       "}\n",
       "\n",
       ".estimator-table details[open] {\n",
       "    padding-left: 0.1rem;\n",
       "    padding-right: 0.1rem;\n",
       "    padding-bottom: 0.3rem;\n",
       "}\n",
       "\n",
       ".estimator-table .parameters-table {\n",
       "    margin-left: auto !important;\n",
       "    margin-right: auto !important;\n",
       "}\n",
       "\n",
       ".estimator-table .parameters-table tr:nth-child(odd) {\n",
       "    background-color: #fff;\n",
       "}\n",
       "\n",
       ".estimator-table .parameters-table tr:nth-child(even) {\n",
       "    background-color: #f6f6f6;\n",
       "}\n",
       "\n",
       ".estimator-table .parameters-table tr:hover {\n",
       "    background-color: #e0e0e0;\n",
       "}\n",
       "\n",
       ".estimator-table table td {\n",
       "    border: 1px solid rgba(106, 105, 104, 0.232);\n",
       "}\n",
       "\n",
       ".user-set td {\n",
       "    color:rgb(255, 94, 0);\n",
       "    text-align: left;\n",
       "}\n",
       "\n",
       ".user-set td.value pre {\n",
       "    color:rgb(255, 94, 0) !important;\n",
       "    background-color: transparent !important;\n",
       "}\n",
       "\n",
       ".default td {\n",
       "    color: black;\n",
       "    text-align: left;\n",
       "}\n",
       "\n",
       ".user-set td i,\n",
       ".default td i {\n",
       "    color: black;\n",
       "}\n",
       "\n",
       ".copy-paste-icon {\n",
       "    background-image: url(data:image/svg+xml;base64,PHN2ZyB4bWxucz0iaHR0cDovL3d3dy53My5vcmcvMjAwMC9zdmciIHZpZXdCb3g9IjAgMCA0NDggNTEyIj48IS0tIUZvbnQgQXdlc29tZSBGcmVlIDYuNy4yIGJ5IEBmb250YXdlc29tZSAtIGh0dHBzOi8vZm9udGF3ZXNvbWUuY29tIExpY2Vuc2UgLSBodHRwczovL2ZvbnRhd2Vzb21lLmNvbS9saWNlbnNlL2ZyZWUgQ29weXJpZ2h0IDIwMjUgRm9udGljb25zLCBJbmMuLS0+PHBhdGggZD0iTTIwOCAwTDMzMi4xIDBjMTIuNyAwIDI0LjkgNS4xIDMzLjkgMTQuMWw2Ny45IDY3LjljOSA5IDE0LjEgMjEuMiAxNC4xIDMzLjlMNDQ4IDMzNmMwIDI2LjUtMjEuNSA0OC00OCA0OGwtMTkyIDBjLTI2LjUgMC00OC0yMS41LTQ4LTQ4bDAtMjg4YzAtMjYuNSAyMS41LTQ4IDQ4LTQ4ek00OCAxMjhsODAgMCAwIDY0LTY0IDAgMCAyNTYgMTkyIDAgMC0zMiA2NCAwIDAgNDhjMCAyNi41LTIxLjUgNDgtNDggNDhMNDggNTEyYy0yNi41IDAtNDgtMjEuNS00OC00OEwwIDE3NmMwLTI2LjUgMjEuNS00OCA0OC00OHoiLz48L3N2Zz4=);\n",
       "    background-repeat: no-repeat;\n",
       "    background-size: 14px 14px;\n",
       "    background-position: 0;\n",
       "    display: inline-block;\n",
       "    width: 14px;\n",
       "    height: 14px;\n",
       "    cursor: pointer;\n",
       "}\n",
       "</style><body><div id=\"sk-container-id-5\" class=\"sk-top-container\"><div class=\"sk-text-repr-fallback\"><pre>LinearRegression()</pre><b>In a Jupyter environment, please rerun this cell to show the HTML representation or trust the notebook. <br />On GitHub, the HTML representation is unable to render, please try loading this page with nbviewer.org.</b></div><div class=\"sk-container\" hidden><div class=\"sk-item\"><div class=\"sk-estimator fitted sk-toggleable\"><input class=\"sk-toggleable__control sk-hidden--visually\" id=\"sk-estimator-id-5\" type=\"checkbox\" checked><label for=\"sk-estimator-id-5\" class=\"sk-toggleable__label fitted sk-toggleable__label-arrow\"><div><div>LinearRegression</div></div><div><a class=\"sk-estimator-doc-link fitted\" rel=\"noreferrer\" target=\"_blank\" href=\"https://scikit-learn.org/1.7/modules/generated/sklearn.linear_model.LinearRegression.html\">?<span>Documentation for LinearRegression</span></a><span class=\"sk-estimator-doc-link fitted\">i<span>Fitted</span></span></div></label><div class=\"sk-toggleable__content fitted\" data-param-prefix=\"\">\n",
       "        <div class=\"estimator-table\">\n",
       "            <details>\n",
       "                <summary>Parameters</summary>\n",
       "                <table class=\"parameters-table\">\n",
       "                  <tbody>\n",
       "                    \n",
       "        <tr class=\"default\">\n",
       "            <td><i class=\"copy-paste-icon\"\n",
       "                 onclick=\"copyToClipboard('fit_intercept',\n",
       "                          this.parentElement.nextElementSibling)\"\n",
       "            ></i></td>\n",
       "            <td class=\"param\">fit_intercept&nbsp;</td>\n",
       "            <td class=\"value\">True</td>\n",
       "        </tr>\n",
       "    \n",
       "\n",
       "        <tr class=\"default\">\n",
       "            <td><i class=\"copy-paste-icon\"\n",
       "                 onclick=\"copyToClipboard('copy_X',\n",
       "                          this.parentElement.nextElementSibling)\"\n",
       "            ></i></td>\n",
       "            <td class=\"param\">copy_X&nbsp;</td>\n",
       "            <td class=\"value\">True</td>\n",
       "        </tr>\n",
       "    \n",
       "\n",
       "        <tr class=\"default\">\n",
       "            <td><i class=\"copy-paste-icon\"\n",
       "                 onclick=\"copyToClipboard('tol',\n",
       "                          this.parentElement.nextElementSibling)\"\n",
       "            ></i></td>\n",
       "            <td class=\"param\">tol&nbsp;</td>\n",
       "            <td class=\"value\">1e-06</td>\n",
       "        </tr>\n",
       "    \n",
       "\n",
       "        <tr class=\"default\">\n",
       "            <td><i class=\"copy-paste-icon\"\n",
       "                 onclick=\"copyToClipboard('n_jobs',\n",
       "                          this.parentElement.nextElementSibling)\"\n",
       "            ></i></td>\n",
       "            <td class=\"param\">n_jobs&nbsp;</td>\n",
       "            <td class=\"value\">None</td>\n",
       "        </tr>\n",
       "    \n",
       "\n",
       "        <tr class=\"default\">\n",
       "            <td><i class=\"copy-paste-icon\"\n",
       "                 onclick=\"copyToClipboard('positive',\n",
       "                          this.parentElement.nextElementSibling)\"\n",
       "            ></i></td>\n",
       "            <td class=\"param\">positive&nbsp;</td>\n",
       "            <td class=\"value\">False</td>\n",
       "        </tr>\n",
       "    \n",
       "                  </tbody>\n",
       "                </table>\n",
       "            </details>\n",
       "        </div>\n",
       "    </div></div></div></div></div><script>function copyToClipboard(text, element) {\n",
       "    // Get the parameter prefix from the closest toggleable content\n",
       "    const toggleableContent = element.closest('.sk-toggleable__content');\n",
       "    const paramPrefix = toggleableContent ? toggleableContent.dataset.paramPrefix : '';\n",
       "    const fullParamName = paramPrefix ? `${paramPrefix}${text}` : text;\n",
       "\n",
       "    const originalStyle = element.style;\n",
       "    const computedStyle = window.getComputedStyle(element);\n",
       "    const originalWidth = computedStyle.width;\n",
       "    const originalHTML = element.innerHTML.replace('Copied!', '');\n",
       "\n",
       "    navigator.clipboard.writeText(fullParamName)\n",
       "        .then(() => {\n",
       "            element.style.width = originalWidth;\n",
       "            element.style.color = 'green';\n",
       "            element.innerHTML = \"Copied!\";\n",
       "\n",
       "            setTimeout(() => {\n",
       "                element.innerHTML = originalHTML;\n",
       "                element.style = originalStyle;\n",
       "            }, 2000);\n",
       "        })\n",
       "        .catch(err => {\n",
       "            console.error('Failed to copy:', err);\n",
       "            element.style.color = 'red';\n",
       "            element.innerHTML = \"Failed!\";\n",
       "            setTimeout(() => {\n",
       "                element.innerHTML = originalHTML;\n",
       "                element.style = originalStyle;\n",
       "            }, 2000);\n",
       "        });\n",
       "    return false;\n",
       "}\n",
       "\n",
       "document.querySelectorAll('.fa-regular.fa-copy').forEach(function(element) {\n",
       "    const toggleableContent = element.closest('.sk-toggleable__content');\n",
       "    const paramPrefix = toggleableContent ? toggleableContent.dataset.paramPrefix : '';\n",
       "    const paramName = element.parentElement.nextElementSibling.textContent.trim();\n",
       "    const fullParamName = paramPrefix ? `${paramPrefix}${paramName}` : paramName;\n",
       "\n",
       "    element.setAttribute('title', fullParamName);\n",
       "});\n",
       "</script></body>"
      ],
      "text/plain": [
       "LinearRegression()"
      ]
     },
     "execution_count": 626,
     "metadata": {},
     "output_type": "execute_result"
    }
   ],
   "source": [
    "# Train model\n",
    "model = LinearRegression()\n",
    "model.fit(X_train_scaled, y_train)"
   ]
  },
  {
   "cell_type": "code",
   "execution_count": 627,
   "id": "6135acd5-61a7-46d9-a819-b098c1a85174",
   "metadata": {},
   "outputs": [],
   "source": [
    "# Predict\n",
    "y_pred = model.predict(X_test_scaled)"
   ]
  },
  {
   "cell_type": "code",
   "execution_count": 628,
   "id": "033ca749-ff21-41b0-aeb3-4a52954bd99a",
   "metadata": {},
   "outputs": [
    {
     "name": "stdout",
     "output_type": "stream",
     "text": [
      "--- Linear Regression Results ---\n",
      "Mean Absolute Error (MAE): 318572.89\n",
      "Mean Squared Error (MSE): 205832791205.01\n",
      "Root Mean Squared Error (RMSE): 453687.99\n",
      "R-squared (R2): 0.46\n"
     ]
    }
   ],
   "source": [
    "#Evaluate the model (metrics explained)\n",
    "mae_l = mean_absolute_error(y_test, y_pred)\n",
    "mse_l = mean_squared_error(y_test, y_pred)\n",
    "rmse_l = np.sqrt(mse_l)\n",
    "r2_l = r2_score(y_test, y_pred)\n",
    "\n",
    "print(\"--- Linear Regression Results ---\")\n",
    "print(f\"Mean Absolute Error (MAE): {mae_l:.2f}\")\n",
    "print(f\"Mean Squared Error (MSE): {mse_l:.2f}\")\n",
    "print(f\"Root Mean Squared Error (RMSE): {rmse_l:.2f}\")\n",
    "print(f\"R-squared (R2): {r2_l:.2f}\")"
   ]
  },
  {
   "cell_type": "code",
   "execution_count": 629,
   "id": "feb27dff-8c8d-4ae8-9b68-b7acd970cfaf",
   "metadata": {},
   "outputs": [
    {
     "data": {
      "image/png": "[encoded data removed]",
      "text/plain": [
       "<Figure size 800x600 with 1 Axes>"
      ]
     },
     "metadata": {},
     "output_type": "display_data"
    }
   ],
   "source": [
    "plt.figure(figsize=(8, 6))\n",
    "plt.scatter(y_test, y_pred, color='dodgerblue', alpha=0.6)\n",
    "plt.plot([y_test.min(), y_test.max()], [y_test.min(), y_test.max()], color='red', linestyle='--')\n",
    "plt.xlabel('Actual Prices')\n",
    "plt.ylabel('Predicted Prices')\n",
    "plt.title('Linear Regression: Actual vs. Predicted Prices')\n",
    "plt.grid(True)\n",
    "plt.show()"
   ]
  },
  {
   "cell_type": "markdown",
   "id": "5487483d-55bd-4b23-b101-9ba60422cee1",
   "metadata": {},
   "source": [
    "##  Polynomial Regression"
   ]
  },
  {
   "cell_type": "code",
   "execution_count": 633,
   "id": "36475948-e5f2-4bee-a3ec-753c28054dc2",
   "metadata": {},
   "outputs": [],
   "source": [
    "poly_features = PolynomialFeatures(degree=2)\n",
    "X_train_poly = poly_features.fit_transform(X_train)\n",
    "X_test_poly = poly_features.transform(X_test)\n",
    "model_poly = LinearRegression()\n",
    "model_poly.fit(X_train_poly, y_train)\n",
    "y_pred_poly = model_poly.predict(X_test_poly)"
   ]
  },
  {
   "cell_type": "code",
   "execution_count": 634,
   "id": "96729168-ced2-453d-b899-d82690c0955c",
   "metadata": {},
   "outputs": [
    {
     "name": "stdout",
     "output_type": "stream",
     "text": [
      "\n",
      "--- Polynomial Regression Results (Degree 2) ---\n",
      "Mean Absolute Error (MAE): 287418.03\n",
      "Mean Squared Error (MSE): 182056397793.93\n",
      "Root Mean Squared Error (RMSE): 426680.67\n",
      "R-squared (R2): 0.52\n"
     ]
    }
   ],
   "source": [
    "mae_poly = mean_absolute_error(y_test, y_pred_poly)\n",
    "mse_poly = mean_squared_error(y_test, y_pred_poly)\n",
    "rmse_poly = np.sqrt(mse_poly)\n",
    "r2_poly = r2_score(y_test, y_pred_poly)\n",
    "\n",
    "print(\"\\n--- Polynomial Regression Results (Degree 2) ---\")\n",
    "print(f\"Mean Absolute Error (MAE): {mae_poly:.2f}\")\n",
    "print(f\"Mean Squared Error (MSE): {mse_poly:.2f}\")\n",
    "print(f\"Root Mean Squared Error (RMSE): {rmse_poly:.2f}\")\n",
    "print(f\"R-squared (R2): {r2_poly:.2f}\")"
   ]
  },
  {
   "cell_type": "code",
   "execution_count": 635,
   "id": "4454bb43-91bc-44b4-8035-b0729d5ee78d",
   "metadata": {},
   "outputs": [
    {
     "data": {
      "image/png": "[encoded data removed]",
      "text/plain": [
       "<Figure size 800x600 with 1 Axes>"
      ]
     },
     "metadata": {},
     "output_type": "display_data"
    }
   ],
   "source": [
    "plt.figure(figsize=(8, 6))\n",
    "plt.scatter(y_test, y_pred_poly, color='orange', alpha=0.6)\n",
    "plt.plot([y_test.min(), y_test.max()], [y_test.min(), y_test.max()], color='red', linestyle='--')\n",
    "plt.xlabel('Actual Prices')\n",
    "plt.ylabel('Predicted Prices')\n",
    "plt.title('Polynomial Regression (Degree 2): Actual vs. Predicted Prices')\n",
    "plt.grid(True)\n",
    "plt.show()\n"
   ]
  },
  {
   "cell_type": "markdown",
   "id": "1b56b72e-4cd5-42a8-a749-b67373f0aa91",
   "metadata": {},
   "source": [
    "## Lasso Regression"
   ]
  },
  {
   "cell_type": "code",
   "execution_count": 623,
   "id": "012b07db-7e26-49b9-9dd0-48f3dfecdeff",
   "metadata": {},
   "outputs": [
    {
     "name": "stdout",
     "output_type": "stream",
     "text": [
      "\n",
      "--- Lasso Regression Results ---\n",
      "Mean Absolute Error (MAE): 318572.50\n",
      "Mean Squared Error (MSE): 205832726430.76\n",
      "Root Mean Squared Error (RMSE): 453687.92\n",
      "R-squared (R2): 0.46\n"
     ]
    },
    {
     "name": "stderr",
     "output_type": "stream",
     "text": [
      "C:\\Users\\admin\\AppData\\Local\\Packages\\PythonSoftwareFoundation.Python.3.13_qbz5n2kfra8p0\\LocalCache\\local-packages\\Python313\\site-packages\\sklearn\\linear_model\\_coordinate_descent.py:695: ConvergenceWarning: Objective did not converge. You might want to increase the number of iterations, check the scale of the features or consider increasing regularisation. Duality gap: 9.099e+12, tolerance: 7.930e+10\n",
      "  model = cd_fast.enet_coordinate_descent(\n"
     ]
    }
   ],
   "source": [
    "model_lasso = Lasso(alpha=1.0)\n",
    "model_lasso.fit(X_train_scaled, y_train)\n",
    "y_pred_lasso = model_lasso.predict(X_test_scaled)\n",
    "\n",
    "mae_lasso = mean_absolute_error(y_test, y_pred_lasso)\n",
    "mse_lasso = mean_squared_error(y_test, y_pred_lasso)\n",
    "rmse_lasso = np.sqrt(mse_lasso)\n",
    "r2_lasso = r2_score(y_test, y_pred_lasso)\n",
    "\n",
    "print(\"\\n--- Lasso Regression Results ---\")\n",
    "print(f\"Mean Absolute Error (MAE): {mae_lasso:.2f}\")\n",
    "print(f\"Mean Squared Error (MSE): {mse_lasso:.2f}\")\n",
    "print(f\"Root Mean Squared Error (RMSE): {rmse_lasso:.2f}\")\n",
    "print(f\"R-squared (R2): {r2_lasso:.2f}\")\n"
   ]
  },
  {
   "cell_type": "markdown",
   "id": "67532693-74b4-47fd-95c0-0b1cc6a068bc",
   "metadata": {},
   "source": [
    "## Ridge Regression"
   ]
  },
  {
   "cell_type": "code",
   "execution_count": 618,
   "id": "6b7a3c9f-5d09-459a-a903-55e0c9e1ca4d",
   "metadata": {},
   "outputs": [
    {
     "name": "stdout",
     "output_type": "stream",
     "text": [
      "\n",
      "--- Ridge Regression Results ---\n",
      "Mean Absolute Error (MAE): 318245.21\n",
      "Mean Squared Error (MSE): 205568440469.69\n",
      "Root Mean Squared Error (RMSE): 453396.56\n",
      "R-squared (R2): 0.46\n"
     ]
    }
   ],
   "source": [
    "model_ridge = Ridge(alpha=1.0)\n",
    "model_ridge.fit(X_train, y_train)\n",
    "y_pred_ridge = model_ridge.predict(X_test)\n",
    "\n",
    "mae_ridge = mean_absolute_error(y_test, y_pred_ridge)\n",
    "mse_ridge = mean_squared_error(y_test, y_pred_ridge)\n",
    "rmse_ridge = np.sqrt(mse_ridge)\n",
    "r2_ridge = r2_score(y_test, y_pred_ridge)\n",
    "\n",
    "print(\"\\n--- Ridge Regression Results ---\")\n",
    "print(f\"Mean Absolute Error (MAE): {mae_ridge:.2f}\")\n",
    "print(f\"Mean Squared Error (MSE): {mse_ridge:.2f}\")\n",
    "print(f\"Root Mean Squared Error (RMSE): {rmse_ridge:.2f}\")\n",
    "print(f\"R-squared (R2): {r2_ridge:.2f}\")\n"
   ]
  },
  {
   "cell_type": "markdown",
   "id": "014920d4-7a5a-40fb-bda9-f85ae9134cab",
   "metadata": {},
   "source": [
    "## Decision Tree Regressor"
   ]
  },
  {
   "cell_type": "code",
   "execution_count": 619,
   "id": "55cc263e-b557-4629-9e4c-26b4c301f04b",
   "metadata": {},
   "outputs": [
    {
     "name": "stdout",
     "output_type": "stream",
     "text": [
      "\n",
      "--- Decision Tree Regressor Results ---\n",
      "Mean Absolute Error (MAE): 230005.30\n",
      "Mean Squared Error (MSE): 146494613796.88\n",
      "Root Mean Squared Error (RMSE): 382746.15\n",
      "R-squared (R2): 0.62\n"
     ]
    }
   ],
   "source": [
    "model_tree = DecisionTreeRegressor(random_state=42)\n",
    "model_tree.fit(X_train, y_train)\n",
    "y_pred_tree = model_tree.predict(X_test)\n",
    "\n",
    "mae_tree = mean_absolute_error(y_test, y_pred_tree)\n",
    "mse_tree = mean_squared_error(y_test, y_pred_tree)\n",
    "rmse_tree = np.sqrt(mse_tree)\n",
    "r2_tree = r2_score(y_test, y_pred_tree)\n",
    "\n",
    "print(\"\\n--- Decision Tree Regressor Results ---\")\n",
    "print(f\"Mean Absolute Error (MAE): {mae_tree:.2f}\")\n",
    "print(f\"Mean Squared Error (MSE): {mse_tree:.2f}\")\n",
    "print(f\"Root Mean Squared Error (RMSE): {rmse_tree:.2f}\")\n",
    "print(f\"R-squared (R2): {r2_tree:.2f}\")\n"
   ]
  },
  {
   "cell_type": "markdown",
   "id": "c1f45043-1705-44c1-9334-b571da924141",
   "metadata": {},
   "source": [
    "## Random Forest Regressor"
   ]
  },
  {
   "cell_type": "code",
   "execution_count": 620,
   "id": "e6ae08c5-084d-44e3-bc1b-2f52c44e6145",
   "metadata": {},
   "outputs": [
    {
     "name": "stdout",
     "output_type": "stream",
     "text": [
      "\n",
      "--- Random Forest Regressor Results ---\n",
      "Mean Absolute Error (MAE): 210530.08\n",
      "Mean Squared Error (MSE): 122833696385.89\n",
      "Root Mean Squared Error (RMSE): 350476.38\n",
      "R-squared (R2): 0.68\n"
     ]
    }
   ],
   "source": [
    "model_rf = RandomForestRegressor(n_estimators=100, random_state=42)\n",
    "model_rf.fit(X_train, y_train)\n",
    "y_pred_rf = model_rf.predict(X_test)\n",
    "\n",
    "mae_rf = mean_absolute_error(y_test, y_pred_rf)\n",
    "mse_rf = mean_squared_error(y_test, y_pred_rf)\n",
    "rmse_rf = np.sqrt(mse_rf)\n",
    "r2_rf = r2_score(y_test, y_pred_rf)\n",
    "\n",
    "print(\"\\n--- Random Forest Regressor Results ---\")\n",
    "print(f\"Mean Absolute Error (MAE): {mae_rf:.2f}\")\n",
    "print(f\"Mean Squared Error (MSE): {mse_rf:.2f}\")\n",
    "print(f\"Root Mean Squared Error (RMSE): {rmse_rf:.2f}\")\n",
    "print(f\"R-squared (R2): {r2_rf:.2f}\")\n"
   ]
  },
  {
   "cell_type": "code",
   "execution_count": 637,
   "id": "84f40eac-6014-4675-a2aa-e9f1921b48e2",
   "metadata": {},
   "outputs": [
    {
     "data": {
      "image/png": "[encoded data removed]",
      "text/plain": [
       "<Figure size 640x480 with 1 Axes>"
      ]
     },
     "metadata": {},
     "output_type": "display_data"
    }
   ],
   "source": [
    "# Random Forest Regressor Plot\n",
    "\n",
    "plt.scatter(y_test, y_pred_rf, color='purple', alpha=0.5)\n",
    "plt.plot([y_test.min(), y_test.max()], [y_test.min(), y_test.max()], 'r--')\n",
    "plt.title(\"Random Forest Regressor\")\n",
    "plt.xlabel(\"Actual\")\n",
    "plt.ylabel(\"Predicted\")\n",
    "plt.grid(True)\n",
    "\n",
    "# Display all plots\n",
    "plt.tight_layout()\n",
    "plt.show()"
   ]
  },
  {
   "cell_type": "markdown",
   "id": "3a2209e8-d166-4cfe-aa03-0286ca490339",
   "metadata": {},
   "source": [
    "## SVM Regressor"
   ]
  },
  {
   "cell_type": "code",
   "execution_count": 621,
   "id": "dde65186-baa6-41c8-adb7-df20693cf24d",
   "metadata": {},
   "outputs": [
    {
     "name": "stdout",
     "output_type": "stream",
     "text": [
      "\n",
      "--- Support Vector Regression (SVR) Results ---\n",
      "Mean Absolute Error (MAE): 261829.59\n",
      "Mean Squared Error (MSE): 201905799906.67\n",
      "Root Mean Squared Error (RMSE): 449339.29\n",
      "R-squared (R2): 0.47\n"
     ]
    }
   ],
   "source": [
    "# Scale the data for SVR\n",
    "scaler_X = StandardScaler()\n",
    "scaler_y = StandardScaler()\n",
    "\n",
    "X_train_scaled = scaler_X.fit_transform(X_train)\n",
    "X_test_scaled = scaler_X.transform(X_test)\n",
    "\n",
    "y_train_scaled = scaler_y.fit_transform(y_train.values.reshape(-1, 1)).ravel()\n",
    "\n",
    "model_svr = SVR(kernel='rbf')\n",
    "model_svr.fit(X_train_scaled, y_train_scaled)\n",
    "y_pred_svr_scaled = model_svr.predict(X_test_scaled)\n",
    "y_pred_svr = scaler_y.inverse_transform(y_pred_svr_scaled.reshape(-1, 1))\n",
    "\n",
    "mae_svr = mean_absolute_error(y_test, y_pred_svr)\n",
    "mse_svr = mean_squared_error(y_test, y_pred_svr)\n",
    "rmse_svr = np.sqrt(mse_svr)\n",
    "r2_svr = r2_score(y_test, y_pred_svr)\n",
    "\n",
    "print(\"\\n--- Support Vector Regression (SVR) Results ---\")\n",
    "print(f\"Mean Absolute Error (MAE): {mae_svr:.2f}\")\n",
    "print(f\"Mean Squared Error (MSE): {mse_svr:.2f}\")\n",
    "print(f\"Root Mean Squared Error (RMSE): {rmse_svr:.2f}\")\n",
    "print(f\"R-squared (R2): {r2_svr:.2f}\")\n"
   ]
  },
  {
   "cell_type": "markdown",
   "id": "cebe425d-b2d8-427a-a5a4-95895d09ad9a",
   "metadata": {},
   "source": [
    "# comparison between regression models"
   ]
  },
  {
   "cell_type": "code",
   "execution_count": 622,
   "id": "720ac16c-fab7-499c-adaa-27f0fa1f2cac",
   "metadata": {},
   "outputs": [
    {
     "name": "stdout",
     "output_type": "stream",
     "text": [
      "Linear Regression model R-squared (R2): 0.46\n",
      "Polynomial Regression R-squared (R2): 0.52\n",
      "Lasso Regression R-squared (R2): 0.46\n",
      " Ridge Regression R-squared (R2): 0.46\n",
      "Decision Tree Regressor R-squared (R2): 0.62\n",
      " Random Forest Regressor R-squared (R2): 0.68\n",
      " SVM Regressor R-squared (R2): 0.47\n"
     ]
    }
   ],
   "source": [
    "print(f\"Linear Regression model R-squared (R2): {r2_l:.2f}\")\n",
    "print(f\"Polynomial Regression R-squared (R2): {r2_poly:.2f}\")\n",
    "print(f\"Lasso Regression R-squared (R2): {r2_lasso:.2f}\")\n",
    "print(f\" Ridge Regression R-squared (R2): {r2_ridge:.2f}\")\n",
    "print(f\"Decision Tree Regressor R-squared (R2): {r2_tree:.2f}\")\n",
    "print(f\" Random Forest Regressor R-squared (R2): {r2_rf:.2f}\")\n",
    "print(f\" SVM Regressor R-squared (R2): {r2_svr:.2f}\")"
   ]
  },
  {
   "cell_type": "code",
   "execution_count": null,
   "id": "2ef716a1-4f81-4f97-a39e-94cde26ace61",
   "metadata": {},
   "outputs": [],
   "source": [
    "#I chose the Random Forest Regressor as the final model for the following reasons\n",
    "#Highest R² Score (0.68)\n",
    "#"
   ]
  }
 ],
 "metadata": {
  "kernelspec": {
   "display_name": "Python 3 (ipykernel)",
   "language": "python",
   "name": "python3"
  },
  "language_info": {
   "codemirror_mode": {
    "name": "ipython",
    "version": 3
   },
   "file_extension": ".py",
   "mimetype": "text/x-python",
   "name": "python",
   "nbconvert_exporter": "python",
   "pygments_lexer": "ipython3",
   "version": "3.13.5"
  }
 },
 "nbformat": 4,
 "nbformat_minor": 5
}
